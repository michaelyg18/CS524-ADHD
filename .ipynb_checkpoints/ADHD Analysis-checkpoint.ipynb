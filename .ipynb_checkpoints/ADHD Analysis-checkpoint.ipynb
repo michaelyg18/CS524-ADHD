{
 "cells": [
  {
   "cell_type": "markdown",
   "metadata": {},
   "source": [
    "# Instructions"
   ]
  },
  {
   "cell_type": "markdown",
   "metadata": {},
   "source": [
    "This assignment is provided in the form of a Jupyter notebook. Questions and tasks are posed within this notebook file and you are expected to provide code and/or written answers when prompted. You can use Markdown cells to format written responses where necessary."
   ]
  },
  {
   "cell_type": "markdown",
   "metadata": {},
   "source": [
    "Before submitting your assignment, be sure to do a clean run of your notebook and **verify that your cell outputs (e.g., prints, figures, tables) are correctly shown**. To do a clean run, click *Kernel&#8594;Restart & Restart Kernal and Run All Cells...*.\n",
    "\n",
    "You are required to submit this notebook to Gradescope in two forms:\n",
    "\n",
    "1. Submit a PDF of the completed notebook. To produce a PDF, you can use *File&#8594;Save and Export Notebook As...&#8594;HTML* and then convert the HTML file to a PDF using your preferred web browser. **Verify that your code, images, written answers, and cell outputs are visible in the submitted PDF.**\n",
    "2. Submit a zip file (including the `.ipynb` file) of this assignment to Gradescope."
   ]
  },
  {
   "cell_type": "markdown",
   "metadata": {},
   "source": [
    "**Every prompt is worth three points, for a total value of 24 points.**"
   ]
  },
  {
   "cell_type": "markdown",
   "metadata": {},
   "source": [
    "# Setup and Imports"
   ]
  },
  {
   "cell_type": "markdown",
   "metadata": {},
   "source": [
    "These cells will import necessary libraries and configure the notebook's visual style."
   ]
  },
  {
   "cell_type": "code",
   "execution_count": 2,
   "metadata": {},
   "outputs": [],
   "source": [
    "# Code for loading the data set\n",
    "# from synpuf_util import DataLoader\n",
    "\n",
    "# Efficient math and data management\n",
    "import numpy as np\n",
    "import pandas as pd\n",
    "\n",
    "# You may import useful modules and functions from the Python Standard Library.\n",
    "from dateutil.parser import isoparse  # Useful for parsing YYYYMMDD integers into date objects\n",
    "import datetime as datetime\n",
    "\n",
    "# Visualization libraries\n",
    "import matplotlib\n",
    "import matplotlib.pyplot as plt\n",
    "import seaborn as sns"
   ]
  },
  {
   "cell_type": "code",
   "execution_count": 2,
   "metadata": {},
   "outputs": [],
   "source": [
    "# Inline figures. Can swap comments to use interactive figures. Use inline figures for assignment submission.\n",
    "%matplotlib inline\n",
    "# %matplotlib notebook"
   ]
  },
  {
   "cell_type": "code",
   "execution_count": 3,
   "metadata": {},
   "outputs": [],
   "source": [
    "# Set seaborn visual style\n",
    "sns.set()\n",
    "sns.set_context('talk')\n",
    "plt.rcParams[\"patch.force_edgecolor\"] = False  # Turn off histogram borders"
   ]
  },
  {
   "cell_type": "markdown",
   "metadata": {},
   "source": [
    "# Load Data"
   ]
  },
  {
   "cell_type": "markdown",
   "metadata": {},
   "source": [
    "In this assignment, you will be working with a subset of the SynPUF data set. SynPUF contains synthetic medicare claims data for public use. The data are fully “synthetic”; all synthetic beneficiaries are meant to represent actual beneficiaries, though a significant amount of interdependence and co-variation among variables has been altered. This data set is useful, however, for learning how to work with medicare claims data.\n",
    "\n",
    "Information about the SynPUF data set, including descriptions of all the variables, can be found here:\n",
    "<https://www.cms.gov/files/document/de-10-codebook.pdf-0>\n",
    "\n",
    "You should download the data set from Moodle and unzip the folder. (*Warning*: The compressed data set is a $45~MB$ download.) We have provided code below for loading the data set from the downloaded files. By default, the data is assumed to be located in `../synpufs`. You can pass an alternate path to the constructor of the provided `DataLoader` class if your would like to have the data located elsewhere. Loading the data set may take some time and will consume about $1~GB$ of your machine's RAM."
   ]
  },
  {
   "cell_type": "code",
   "execution_count": 4,
   "metadata": {},
   "outputs": [
    {
     "name": "stdout",
     "output_type": "stream",
     "text": [
      "Done loading data!                      \n"
     ]
    }
   ],
   "source": [
    "loader = DataLoader()\n",
    "\n",
    "print('{:40s}'.format('Loading beneficiary data...'), end='\\r')  # Just to give a sense of progress\n",
    "beneficiary_2008  = loader.load_beneficiaries_year(2008)\n",
    "beneficiary_2009  = loader.load_beneficiaries_year(2009)\n",
    "beneficiary_2010  = loader.load_beneficiaries_year(2010)\n",
    "\n",
    "print('{:40s}'.format('Loading outpatient claims...'), end='\\r')\n",
    "outpatient_claims = loader.load_outpatient_claims()\n",
    "\n",
    "print('{:40s}'.format('Loading inpatient claims...'), end='\\r')\n",
    "inpatient_claims  = loader.load_inpatient_claims()\n",
    "\n",
    "print('{:40s}'.format('Done loading data!'))"
   ]
  },
  {
   "cell_type": "markdown",
   "metadata": {},
   "source": [
    "# Questions"
   ]
  },
  {
   "cell_type": "markdown",
   "metadata": {},
   "source": [
    "**Prompt 1**: Suppose you are working on a project that requires that you identify patients with type 2 diabetes.  You will identify patients from 2016 through 2020. What codes will you use to identify type 2 diabetes? (list code values, label/descriptor, and code type)."
   ]
  },
  {
   "cell_type": "markdown",
   "metadata": {},
   "source": [
    "*Answer*: \n",
    "\n",
    "E11 Type 2 diabetes mellitus\n",
    "\n",
    "\n",
    "Includes: \n",
    "- diabetes (mellitus) due to insulin secretory defect\n",
    "- diabetes NOS\n",
    "- insulin resistant diabetes (mellitus)\n",
    "Use additional code to identify control using:\n",
    "- insulin (Z79.4)\n",
    "- oral antidiabetic drugs (Z79.84)\n",
    "- oral hypoglycemic drugs (Z79.84)\n",
    "\n",
    "\n",
    "Excludes1: \n",
    "- diabetes mellitus due to underlying condition (E08.-)\n",
    "- drug or chemical induced diabetes mellitus (E09.-)\n",
    "- gestational diabetes (O24.4-)\n",
    "- neonatal diabetes mellitus (P70.2)\n",
    "- postpancreatectomy diabetes mellitus (E13.-)\n",
    "- postprocedural diabetes mellitus (E13.-)\n",
    "- secondary diabetes mellitus NEC (E13.-)\n",
    "- type 1 diabetes mellitus (E10.-)\n",
    "\n",
    "Under E11, there are the following subcategories:\n",
    "\n",
    "- E11.0 Type 2 diabetes mellitus with hyperosmolarity\n",
    "- E11.1 Type 2 diabetes mellitus with ketoacidosis\n",
    "- E11.2 Type 2 diabetes mellitus with kidney complications\n",
    "- E11.3 Type 2 diabetes mellitus with ophthalmic complications\n",
    "- E11.4 Type 2 diabetes mellitus with neurological complications\n",
    "- E11.5 Type 2 diabetes mellitus with circulatory complications\n",
    "- E11.6 Type 2 diabetes mellitus with other specified complications\n",
    "- E11.8 Type 2 diabetes mellitus with unspecified complications\n",
    "- E11.9 Type 2 diabetes mellitus without complications"
   ]
  },
  {
   "cell_type": "markdown",
   "metadata": {},
   "source": [
    "**Prompt 2.1**: In the synthetic claims database, you instead have data from 2008&ndash;2010. Hence, we have to use the ICD-9 codes. If you look up the ICD-9 codes for diabetes, you will find the following pattern:\n",
    "- 250.x0 codes for Type II Diabetes Mellitus.\n",
    "- 250.x1 codes for Type I Diabetes Mellitus.\n",
    "- 250.x2 codes for uncontrolled Type II Diabetes Mellitus.\n",
    "- 250.x3 codes for uncontrolled Type I Diabetes Mellitus.\n",
    "- The x in the above coding scheme represents what complications, if any, are associated with the diabetes.\n",
    "\n",
    "In addition to identifying the proper diagnostic codes, you also want to ensure you have a cohort of patients that truly have type 2 diabetes and need to address the following concerns:\n",
    "1. Some patients with type 1 diabetes receive erroneous diagnoses of type 2 diabetes on their medical claims even after their formal diagnosis of type 1 diabetes\n",
    "2. Some patients with incidental high blood sugar may receive a preliminary diagnosis of type 2 diabetes even if subsequent evaluation and testing negates the diagnosis.\n",
    "\n",
    "Based on these concerns, you proposed the following algorithm:\n",
    "1. Patients should have no Type 1 Diabetes diagnoses.\n",
    "2. Patients should have at least two diagnoses of Type 2 Diabetes. (**Extra Credit**: These two diagnoses should span at least 3-months of time between diagnoses.)\n",
    "\n",
    "<b>Using the outpatient claims data, create an identifier for all patients with a diagnosis of type 2 diabetes as per the algorithm and diagnostic codes above.  Be sure to use <u>ALL</u> diagnostic fields in the outpatient database.</b>\n",
    "\n",
    "*Hint*: The string for each ICD-9 code does not have the decimal. I.e., the code 250.01 will be represented by the string `25001`.\n",
    "\n",
    "*Hint*: `claims['column_name'].str.contains(pattern, na=False)` will evaluate each string in the column and return True if the string matches the supplied regular expression pattern. The regular expression `r'^250\\d[13]$'` will match any string that starts with 250, has any fourth digit, and ends with 1 or 3.\n",
    "\n",
    "*Hint*: You may find DataFrame groupby operations to be useful for aggregating results for the same subject across multiple rows: \n",
    "- <https://pandas.pydata.org/docs/reference/api/pandas.DataFrame.groupby.html>\n",
    "- <https://pandas.pydata.org/docs/reference/groupby.html>\n",
    "- <https://pandas.pydata.org/pandas-docs/stable/user_guide/groupby.html>\n"
   ]
  },
  {
   "cell_type": "code",
   "execution_count": 5,
   "metadata": {},
   "outputs": [],
   "source": [
    "# beneficiary_2008.head\n",
    "# CLM_FROM_DT DESYNPUF: Claims start date\n",
    "\n",
    "# masks array to store boolean masks\n",
    "masks = []\n",
    "# ICD9_DGNS_CD_1 – ICD9_DGNS_CD_10 DESYNPUF: Claim Diagnosis Code 1 – Claim Diagnosis Code 10\n",
    "# so 10 columns that need to be checked\n",
    "for column in outpatient_claims.loc[:, 'ICD9_DGNS_CD_1' : 'ICD9_DGNS_CD_10']:\n",
    "    # create boolean mask of type 2 diabetes for each column and add it to the array\n",
    "    masks.append(outpatient_claims[column].str.contains(r'^250\\d[02]$', na=False))\n",
    "\n",
    "# combine all masks (all patients with a type 2 diagnosis in any column)\n",
    "mask = np.logical_or.reduce(masks)\n",
    "# filter with the mask into a new smaller dataframe\n",
    "type2_patients = outpatient_claims[mask]\n",
    "\n",
    "\n",
    "# now filter out type1 claims\n",
    "masks = []\n",
    "for column in type2_patients.loc[:, 'ICD9_DGNS_CD_1' : 'ICD9_DGNS_CD_10']:\n",
    "    # create boolean mask of type 1 diabetes for each column and add it to the array\n",
    "    masks.append(type2_patients[column].str.contains(r'^250\\d[13]$', na=False))\n",
    "\n",
    "# combine all masks (all patients with a type 1 diagnosis in any column)\n",
    "mask = np.logical_or.reduce(masks)\n",
    "# invert the mask to filter out any patients with at type 1 diagnosis\n",
    "type2_patients = type2_patients[~mask]\n",
    "\n",
    "# now find patients with at least two diagnoses\n",
    "mask = type2_patients.groupby(['DESYNPUF_ID']).transform('size') >= 2\n",
    "type2_patients = type2_patients[mask]\n",
    "\n",
    "\n",
    "# extra credit\n",
    "# now find patients with at least 3 months (90 days) between the two diagnoses\n",
    "pd.options.mode.chained_assignment = None  # suppress the warning that shows up\n",
    "\n",
    "# convert claim date columns into datetime objects\n",
    "type2_patients['DATETIMES'] = pd.to_datetime(type2_patients['CLM_THRU_DT'], format=\"%Y%m%d\")\n",
    "# get the difference between each visit date and check if its more than 90 days\n",
    "# assuming the requirement is more than 90 days between each successive claim, not all claims\n",
    "mask = type2_patients.groupby(['DESYNPUF_ID'])['DATETIMES'].transform('diff') >= datetime.timedelta(90)\n",
    "type2_extracredit = type2_patients[mask]\n",
    "\n",
    "pd.options.mode.chained_assignment = 'warn'  # allow the warnings again\n",
    "\n",
    "\n",
    "# kind of wasteful but a way to get a dataframe with true for each ID\n",
    "identifier = (type2_extracredit.groupby(['DESYNPUF_ID']).size() > 0).rename(\"T2_DIABETES\")\n",
    "# merge into a new indicator column over all IDs in the synthetic dataset\n",
    "type2_identifier = beneficiary_2008.merge(identifier, how='left', on='DESYNPUF_ID')\n",
    "# set NaN to false\n",
    "type2_identifier['T2_DIABETES'] = type2_identifier['T2_DIABETES'].notna()\n",
    "\n",
    "# type2_identifier[['DESYNPUF_ID', 'T2_DIABETES']]"
   ]
  },
  {
   "cell_type": "markdown",
   "metadata": {},
   "source": [
    "**Prompt 2.2**: Compute the number of patients you identified as having type 2 diabetes."
   ]
  },
  {
   "cell_type": "code",
   "execution_count": 6,
   "metadata": {},
   "outputs": [
    {
     "name": "stdout",
     "output_type": "stream",
     "text": [
      "Number of patients with type 2 diabetes (default):\n",
      "12912\n",
      "Number of patients with type 2 diabetes (extra credit):\n",
      "10934\n"
     ]
    }
   ],
   "source": [
    "print(\"Number of patients with type 2 diabetes (default):\")\n",
    "print(len(type2_patients.groupby(['DESYNPUF_ID'])))\n",
    "\n",
    "print(\"Number of patients with type 2 diabetes (extra credit):\")\n",
    "print(len(type2_extracredit.groupby(['DESYNPUF_ID'])))"
   ]
  },
  {
   "cell_type": "markdown",
   "metadata": {},
   "source": [
    "**Prompt 3.1**: From the patients you identified as having type 2 diabetes in Prompts 2.1 and 2.2, create a new indicator limited to the subset of beneficiaries (patients) with Part A, Part B, and Part D coverage for at least 6-months. You should join the three beneficiary summary files (i.e., `beneficiary_2008`, `beneficiary_2009`, and `beneficiary_2010`) to do this. To locate the variables in the beneficiary summary files that indicate the total number of months of coverage for Part A, Part B, and Part D, please refer to Page 8 of the document we previously shared: <https://www.cms.gov/files/document/de-10-codebook.pdf-0>\n",
    "\n",
    "*Hint*: You can use `pd.concat` to combine the three beneficiary years into a single table.\n",
    "\n",
    "*Hint*: You can use a groupby to aggregate coverge in each Part for every subject before joining it to your previous result.\n",
    "\n",
    "*Hint*: You should use `pd.merge` to join aggregated beneficiary data to your identifier from Prompt 2."
   ]
  },
  {
   "cell_type": "code",
   "execution_count": 7,
   "metadata": {},
   "outputs": [],
   "source": [
    "# A, B, D coverage\n",
    "# BENE_HI_CVRAGE_TOT_MONS, BENE_SMI_CVRAGE_TOT_MONS, PLAN_CVRG_MOS_NUM\n",
    "\n",
    "total_bene = pd.concat((beneficiary_2008, beneficiary_2009, beneficiary_2010))\n",
    "aggregate = total_bene.groupby(['DESYNPUF_ID']) \\\n",
    "            [['BENE_HI_CVRAGE_TOT_MONS', 'BENE_SMI_CVRAGE_TOT_MONS', 'PLAN_CVRG_MOS_NUM']].sum()\n",
    "# aggregate.query('BENE_HI_CVRAGE_TOT_MONS >= 6 & BENE_SMI_CVRAGE_TOT_MONS >= 6 & PLAN_CVRG_MOS_NUM >= 6')\n",
    "mask = (aggregate >= 6).all(axis=1).rename('6_MO_CVRAGE')\n",
    "\n",
    "type2_identifier = type2_identifier.merge(mask, how='left', on='DESYNPUF_ID')"
   ]
  },
  {
   "cell_type": "markdown",
   "metadata": {},
   "source": [
    "**Prompt 3.2**:  Report the number and percentage of patients included/excluded by the coverage restriction."
   ]
  },
  {
   "cell_type": "code",
   "execution_count": 8,
   "metadata": {},
   "outputs": [
    {
     "name": "stdout",
     "output_type": "stream",
     "text": [
      "Number of patients included by the coverage restriction: 98883\n",
      "Number of patients excluded by the coverage restriction: 17469\n",
      "Percentage of patients included by the coverage restriction: 84.98607673267327\n",
      "Percentage of patients excluded by the coverage restriction: 15.013923267326732\n"
     ]
    }
   ],
   "source": [
    "included = type2_identifier['6_MO_CVRAGE'].sum()\n",
    "total = len(type2_identifier['6_MO_CVRAGE'])\n",
    "\n",
    "print(\"Number of patients included by the coverage restriction:\", included)\n",
    "print(\"Number of patients excluded by the coverage restriction:\", total-included)\n",
    "print(\"Percentage of patients included by the coverage restriction:\", included/total * 100)\n",
    "print(\"Percentage of patients excluded by the coverage restriction:\", (total-included)/total * 100)"
   ]
  },
  {
   "cell_type": "markdown",
   "metadata": {},
   "source": [
    "**Prompt 4.1**: Among this cohort of patients with type 2 diabetes and minimum enrollment, your goal is to assess the occurrence (prevalence, risk, or rate) of hospitalized hypoglycemia. Previous investigations validated the following algorithm:\n",
    "\n",
    "![Hypoglycemia Algorithm](hypoglycemia.png)\n",
    "\n",
    "    Ginde AA, Blanc PG, Lieberman RM, Camargo CA Jr. Validation of ICD-9-CM coding algorithm for improved identification of hypoglycemia visits. BMC Endocr Disord. 2008;8:4. Published 2008 Apr 1. doi:10.1186/1472-6823-8-4\n",
    "\n",
    "**Compute how many patients in the cohort from Prompt 3 have an inpatient claim for hypoglycemia per this algorithm.**\n",
    "\n",
    "*Hint*: `claims['column_name'].isin(['2510', '2511', '2512'])` will evaluate each string in the column and return True if the ICD-9 code is 251.0, 251.1, or 251.2. You can extend this methodology to include all necessary codes.\n",
    "\n",
    "*Hint*: The flowchart can be reduced to a simple Boolean logical statement: `has_hypoglycemia = has_primary_diag_code | (has_diabetes_other_code & ~has_secondary_diag_code)`, where `has_primary_diag_code` corresponds to the main ICD-9 codes in the upper-left box, `has_diabetes_other_code` refers to 250.8X codes, and `has_secondary_diag_code` corresponds to co-diagnosis ICD-9 codes in the bottom-right box.\n",
    "\n",
    "*Hint*: Groupby operations and `pd.merge` will again be useful here."
   ]
  },
  {
   "cell_type": "code",
   "execution_count": 9,
   "metadata": {
    "tags": []
   },
   "outputs": [
    {
     "name": "stdout",
     "output_type": "stream",
     "text": [
      "Number of patients in cohort with inpatient claim for hypoglycemia: 227\n"
     ]
    }
   ],
   "source": [
    "cohort = inpatient_claims.merge(type2_identifier[['DESYNPUF_ID', 'T2_DIABETES', '6_MO_CVRAGE']], \n",
    "                                how='left', on='DESYNPUF_ID')\n",
    "cohort = cohort[(cohort['T2_DIABETES'] == True) & (cohort['6_MO_CVRAGE'] == True)]\n",
    "cohort\n",
    "\n",
    "# masks array to store boolean masks\n",
    "masks = []\n",
    "for column in cohort.loc[:, 'ICD9_DGNS_CD_1' : 'ICD9_DGNS_CD_10']:\n",
    "    # create boolean mask for primary code\n",
    "    masks.append(cohort[column].isin(['2510', '2511', '2512', '2703', '7750', \n",
    "                                      '7756', '9623']))\n",
    "\n",
    "primary_mask = np.logical_or.reduce(masks)\n",
    "# filter with the mask into a new smaller dataframe\n",
    "primary_code = cohort[primary_mask]\n",
    "# primary_code.loc[:, 'ICD9_DGNS_CD_1' : 'ICD9_DGNS_CD_10']\n",
    "\n",
    "\n",
    "# masks array to store boolean masks\n",
    "masks = []\n",
    "for column in cohort.loc[:, 'ICD9_DGNS_CD_1' : 'ICD9_DGNS_CD_10']:\n",
    "    masks.append(cohort[column].str.contains(r'^2508\\d$', na=False))\n",
    "\n",
    "# combine all masks (all patients with a diabetes other in any column)\n",
    "diabetes_mask = np.logical_or.reduce(masks)\n",
    "# filter with the mask into a new smaller dataframe\n",
    "diabetes = cohort[diabetes_mask]\n",
    "# diabetes.loc[:, 'ICD9_DGNS_CD_1' : 'ICD9_DGNS_CD_10']\n",
    "\n",
    "\n",
    "# masks array to store boolean masks\n",
    "masks = []\n",
    "for column in cohort.loc[:, 'ICD9_DGNS_CD_1' : 'ICD9_DGNS_CD_10']:\n",
    "    masks.append(cohort[column].isin(['2598', '2727', '7071', '7072', '7073', '7074', \n",
    "                                      '7075', '7076', '7077', '7078', '7079', '7093',\n",
    "                                      '7300', '7301', '7302', '7318']))\n",
    "    masks.append(cohort[column].str.contains(r'^68[12]\\d\\d$', na=False))\n",
    "    masks.append(cohort[column].str.contains(r'^6869\\d$', na=False))\n",
    "\n",
    "\n",
    "# combine all masks (all patients with a co-diagnosis in any column)\n",
    "secondary_mask = np.logical_or.reduce(masks)\n",
    "# filter with the mask into a new smaller dataframe\n",
    "secondary_code = cohort[secondary_mask]\n",
    "# secondary_code.loc[:, 'ICD9_DGNS_CD_1' : 'ICD9_DGNS_CD_10']\n",
    "\n",
    "hypoglycemia = cohort[primary_mask | (diabetes_mask & ~secondary_mask)]\n",
    "# hypoglycemia.loc[:, 'ICD9_DGNS_CD_1' : 'ICD9_DGNS_CD_10']\n",
    "\n",
    "\n",
    "print(\"Number of patients in cohort with inpatient claim for hypoglycemia:\", \n",
    "      len(hypoglycemia.groupby('DESYNPUF_ID')))"
   ]
  },
  {
   "cell_type": "markdown",
   "metadata": {},
   "source": [
    "**Prompt 4.2**: What measure of occurrence of hypoglycemia among those with Type II Diabetes can you estimate from this data (e.g., point prevalence, period prevalence, incidence, or odds)? Estimate and explain this measure of occurrence."
   ]
  },
  {
   "cell_type": "markdown",
   "metadata": {},
   "source": [
    "*Answer*: It would be hard to estimate incidence or odds given we need to examine new cases over a given time period, but with claims data patients would typically only enter the hosptial as needed (when the outcome develops), not before. Additionally, it is hard to identify a point of exposure for Type II Diabetes. We are left with prevalence, and because we're looking at a period of 3 years, it makes more sense to measure period prevalence than point prevalence. "
   ]
  },
  {
   "cell_type": "code",
   "execution_count": 10,
   "metadata": {
    "tags": []
   },
   "outputs": [
    {
     "name": "stdout",
     "output_type": "stream",
     "text": [
      "Period prevalence: 0.02154517843583903\n"
     ]
    }
   ],
   "source": [
    "# Include calculation as well\n",
    "num_cases = len(hypoglycemia.groupby('DESYNPUF_ID'))\n",
    "total_cohort = type2_identifier[(type2_identifier['T2_DIABETES'] == True) \n",
    "                                & (type2_identifier['6_MO_CVRAGE'] == True)]\n",
    "total = len(total_cohort.groupby('DESYNPUF_ID'))\n",
    "prevalence = num_cases/(total)\n",
    "print(\"Period prevalence:\", prevalence)"
   ]
  },
  {
   "cell_type": "markdown",
   "metadata": {},
   "source": [
    "**Prompt 4.3 \\[Bonus\\]**: Of those with at least one hypoglycemia hospitalization, provide a distribution of the number of hypoglycemia hospitalizations per patient. (i.e., create a count indicator for each patient representing the number of unique hospitalizations for hypoglycemia, and provide a histogram of this count indicator)."
   ]
  },
  {
   "cell_type": "code",
   "execution_count": 11,
   "metadata": {
    "tags": []
   },
   "outputs": [
    {
     "data": {
      "text/plain": [
       "<Figure size 640x480 with 0 Axes>"
      ]
     },
     "metadata": {},
     "output_type": "display_data"
    },
    {
     "data": {
      "image/png": "[encoded data removed]",
      "text/plain": [
       "<Figure size 640x480 with 1 Axes>"
      ]
     },
     "metadata": {},
     "output_type": "display_data"
    }
   ],
   "source": [
    "# group by ID and get visit counts\n",
    "fig1 = plt.figure()\n",
    "mask = hypoglycemia.groupby(['DESYNPUF_ID']).count()\n",
    "mask.hist('CLM_FROM_DT', bins=2)\n",
    "plt.title('Distribution of number of hospitalizations')\n",
    "plt.xlabel('Number of hospitalizations')\n",
    "plt.locator_params(axis='x', integer=True)\n",
    "\n",
    "\n",
    "# apparently only 4 of 227 glycemia patients went twice\n",
    "# seems really low?\n"
   ]
  },
  {
   "cell_type": "markdown",
   "metadata": {},
   "source": [
    "**Prompt 5**: Does the occurrence of hypoglycemia (from Prompt 4.1) differ by patient sex? Calculate the prevalence ratio (i.e., the prevalence of hypoglycemia in males divided by the prevalence in females) and interpret a measure of association."
   ]
  },
  {
   "cell_type": "markdown",
   "metadata": {},
   "source": [
    "*Answer*: Given that the prevalence ratio is close to 1, it looks as though the occurrence of hypoglycemia does not really differ by patient sex. "
   ]
  },
  {
   "cell_type": "code",
   "execution_count": 12,
   "metadata": {
    "tags": []
   },
   "outputs": [
    {
     "name": "stdout",
     "output_type": "stream",
     "text": [
      "Male prevalence: 0.0217441062027924\n",
      "Female prevalence: 0.022052862007459057\n",
      "Prevalence ratio: 0.9859992864163288\n"
     ]
    }
   ],
   "source": [
    "# Include code as well\n",
    "hypoglycemia_sex = hypoglycemia.merge(beneficiary_2008[['DESYNPUF_ID', 'BENE_SEX_IDENT_CD']], \n",
    "                                how='left', on='DESYNPUF_ID')\n",
    "# 1 male, 2 female\n",
    "# number of affected individuals\n",
    "affected = hypoglycemia_sex[['DESYNPUF_ID', 'BENE_SEX_IDENT_CD']].groupby('BENE_SEX_IDENT_CD').count()\n",
    "\n",
    "# total number of individuals in population\n",
    "total = total_cohort[['DESYNPUF_ID', 'BENE_SEX_IDENT_CD']].groupby('BENE_SEX_IDENT_CD').count()\n",
    "\n",
    "male_e = affected.iloc[0, 0]\n",
    "female_e = affected.iloc[1, 0]\n",
    "male_t = total.iloc[0, 0]\n",
    "female_t = total.iloc[1, 0]\n",
    "\n",
    "male_prev = male_e/male_t\n",
    "female_prev = female_e/female_t\n",
    "\n",
    "print(\"Male prevalence:\", male_prev)\n",
    "print(\"Female prevalence:\", female_prev)\n",
    "print(\"Prevalence ratio:\", male_prev/female_prev)"
   ]
  },
  {
   "cell_type": "code",
   "execution_count": null,
   "metadata": {},
   "outputs": [],
   "source": []
  }
 ],
 "metadata": {
  "kernelspec": {
   "display_name": "Python 3 (ipykernel)",
   "language": "python",
   "name": "python3"
  },
  "language_info": {
   "codemirror_mode": {
    "name": "ipython",
    "version": 3
   },
   "file_extension": ".py",
   "mimetype": "text/x-python",
   "name": "python",
   "nbconvert_exporter": "python",
   "pygments_lexer": "ipython3",
   "version": "3.11.4"
  },
  "varInspector": {
   "cols": {
    "lenName": 16,
    "lenType": 16,
    "lenVar": 40
   },
   "kernels_config": {
    "python": {
     "delete_cmd_postfix": "",
     "delete_cmd_prefix": "del ",
     "library": "var_list.py",
     "varRefreshCmd": "print(var_dic_list())"
    },
    "r": {
     "delete_cmd_postfix": ") ",
     "delete_cmd_prefix": "rm(",
     "library": "var_list.r",
     "varRefreshCmd": "cat(var_dic_list()) "
    }
   },
   "types_to_exclude": [
    "module",
    "function",
    "builtin_function_or_method",
    "instance",
    "_Feature"
   ],
   "window_display": false
  }
 },
 "nbformat": 4,
 "nbformat_minor": 4
}
