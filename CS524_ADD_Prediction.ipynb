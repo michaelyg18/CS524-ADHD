{
 "cells": [
  {
   "cell_type": "markdown",
   "metadata": {
    "id": "PGZloWYCQxY6"
   },
   "source": [
    "https://www.census.gov/programs-surveys/nsch/data/datasets.2020.html#list-tab-491554181"
   ]
  },
  {
   "cell_type": "code",
   "execution_count": null,
   "metadata": {
    "id": "UWAHOCxEFNEr"
   },
   "outputs": [],
   "source": [
    "# Import necessary libraries\n",
    "import pandas as pd\n",
    "from sklearn.model_selection import train_test_split\n",
    "from sklearn.preprocessing import StandardScaler\n",
    "from sklearn.impute import SimpleImputer\n",
    "from sklearn.ensemble import RandomForestClassifier\n",
    "from sklearn.svm import SVC\n",
    "from sklearn.linear_model import LogisticRegression\n",
    "from sklearn.gaussian_process import GaussianProcessClassifier\n",
    "from sklearn.metrics import accuracy_score, classification_report, confusion_matrix\n",
    "import matplotlib.pyplot as plt\n",
    "import seaborn as sns"
   ]
  },
  {
   "cell_type": "code",
   "execution_count": null,
   "metadata": {
    "id": "MYttsAwXGLJ1"
   },
   "outputs": [],
   "source": [
    "# Load the dataset\n",
    "filename = ''\n",
    "data = pd.read_csv(filename)"
   ]
  },
  {
   "cell_type": "code",
   "execution_count": null,
   "metadata": {},
   "outputs": [],
   "source": [
    "# Pre-processing\n",
    "imputer = SimpleImputer(strategy='mean')\n",
    "data_final = pd.DataFrame(imputer.fit_transform(data_final), columns = data_final.columns)"
   ]
  },
  {
   "cell_type": "code",
   "execution_count": null,
   "metadata": {
    "id": "rdl7L_9JRNrm"
   },
   "outputs": [],
   "source": [
    "# Combine diagnosis and severity into a new target variable ranging from 0 to 3\n",
    "data['ADD_diagnosis_binary'] = data['ADD_diagnosis'].apply(lambda x: 0 if x == 2 else 1) #assign 0 to 'No ADD' instead of 2\n",
    "data['ADD_SEVERITY'] = data['K2Q31A'] * data['K2Q31C']\n",
    "target_variable = 'ADD_SEVERITY'"
   ]
  },
  {
   "cell_type": "code",
   "execution_count": null,
   "metadata": {
    "id": "Ow3cM0b0LXxn"
   },
   "outputs": [],
   "source": [
    "# Identify features with high correlation with the target\n",
    "correlation_matrix = data.corr()\n",
    "\n",
    "# Plot heatmap for correlation matrix\n",
    "plt.figure(figsize=(10, 8))\n",
    "sns.heatmap(correlation_matrix, annot=True, cmap='coolwarm', fmt=\".2f\", linewidths=0.5)\n",
    "plt.title('Correlation Matrix')\n",
    "plt.show()\n",
    "\n",
    "# Combine diagnosis and severity into a new variable ranging from 0 to 3\n",
    "data['ADD_SEVERITY'] = (data['K2Q31A']-1) * data['K2Q31C']\n",
    "target_variable = 'ADD_SEVERITY'\n",
    "target_correlation = correlation_matrix[target_variable].sort_values(ascending=False)\n",
    "highly_correlated_features = target_correlation[abs(target_correlation) > 0.2].index.tolist()\n",
    "\n",
    "print(\"Features with high correlation with the target:\")\n",
    "print(highly_correlated_features)"
   ]
  },
  {
   "cell_type": "code",
   "execution_count": null,
   "metadata": {
    "id": "bd3WQKCuGavF"
   },
   "outputs": [],
   "source": [
    "# Select relevant features and target variables\n",
    "# all demographic and screening variables\n",
    "screen_features = ['AGEPOS4','C_AGE_YEARS','C_CSHCN','C_ENGLISH','C_HISPANIC_R','C_K2Q10','C_K2Q11','C_K2Q12',\n",
    "                   'C_K2Q13','C_K2Q14','C_K2Q15','C_K2Q16','C_K2Q17','C_K2Q18','C_K2Q19','C_K2Q20','C_K2Q21',\n",
    "                   'C_K2Q22','C_K2Q23', 'C_RACE_R','C_SEX','HHLANGUAGE','RACER', \"TOTNONSHCN\",\n",
    "                   \"SC_AGE_LT10\", \"SC_AGE_LT4\", \"SC_AGE_LT6\", \"SC_AGE_LT9\", \"SC_AGE_YEARS\", \"SC_AIAN\",\n",
    "                   \"SC_ASIAN\", \"SC_CSHCN\", \"SC_ENGLISH\", \"SC_HISPANIC_R\",\"SC_K2Q10\", \"SC_K2Q11\", \"SC_K2Q12\", \n",
    "                   \"SC_K2Q13\", \"SC_K2Q14\", \"SC_K2Q15\", \"SC_K2Q16\", \"SC_K2Q17\", \"SC_K2Q18\", \"SC_K2Q19\",\"SC_K2Q20\", \n",
    "                   \"SC_K2Q21\", \"SC_K2Q22\", \"SC_K2Q23\", \"SC_NHPI\", \"SC_RACER\", \"SC_RACE_R\", \"SC_SEX\", \"TENURE\", \n",
    "                   \"TOTAGE_0_5\", \"TOTAGE_12_17\", \"TOTAGE_6_11\", \"TOTCSHCN\", \"TOTFEMALE\", \"TOTKIDS_R\", \"TOTMALE\"\n",
    "additional_features = ['CONCUSSION', 'DISTRACTED', 'ENGAGE_PICKY', 'K10Q12', 'ACE6', 'HIGRADE', 'FPL_I1', 'HOMEEVIC']\n",
    "\n",
    "# Filter the dataset for all selected features and target variable\n",
    "data_final = data[screen_features + additional_features + [target_variable]].copy()\n",
    "\n",
    "X = data_final[selected_features]\n",
    "y = data_final[target_variable]\n",
    "\n",
    "# Split the dataset into train, validation, and test sets\n",
    "train_size = 0.5\n",
    "validation_size = 0.4\n",
    "test_size = 0.1\n",
    "\n",
    "X_train, X_temp, y_train, y_temp = train_test_split(X, y, test_size=(1 - train_size), random_state = 42)\n",
    "X_val, X_test, y_val, y_test = train_test_split(X_temp, y_temp, test_size=test_size/(test_size + validation_size), random_state = 42)\n"
   ]
  },
  {
   "cell_type": "code",
   "execution_count": null,
   "metadata": {
    "id": "08Uzt7lsHMlq"
   },
   "outputs": [],
   "source": [
    "# Standardize the features\n",
    "scaler = StandardScaler()\n",
    "X_train = scaler.fit_transform(X_train)\n",
    "X_val = scaler.transform(X_val)\n",
    "X_test = scaler.transform(X_test)\n",
    "\n",
    "# Define and train models\n",
    "models = {\n",
    "    'Random Forest': RandomForestClassifier(),\n",
    "    'SVM': SVC(),\n",
    "    'Logistic Regression': LogisticRegression(),\n",
    "    'Gaussian Process Classifier': GaussianProcessClassifier()\n",
    "}\n",
    "\n",
    "for name, model in models.items():\n",
    "    model.fit(X_train, y_train)\n",
    "    y_pred = model.predict(X_val)"
   ]
  },
  {
   "cell_type": "code",
   "execution_count": null,
   "metadata": {
    "id": "ma-GO4-3HOSX"
   },
   "outputs": [],
   "source": [
    "# Evaluate each model\n",
    "for name, model in models.items():\n",
    "\n",
    "    accuracy = accuracy_score(y_val, y_pred)\n",
    "    print(f'{name} - Validation Accuracy: {accuracy:.2f}')\n",
    "    print(classification_report(y_val, y_pred))\n",
    "    print(confusion_matrix(y_val, y_pred))\n",
    "\n",
    "    # Feature importance for Random Forest\n",
    "    if name == 'Random Forest':\n",
    "        feature_importance = model.feature_importances_\n",
    "        plt.barh(selected_features, feature_importance)\n",
    "        plt.xlabel('Feature Importance')\n",
    "        plt.title('Random Forest - Feature Importance')\n",
    "        plt.show()\n",
    "\n",
    "# Choose the best model and evaluate on the test set\n",
    "best_model = ''  # Change this based on the best-performing model from validation\n",
    "best_model.fit(X_train, y_train)\n",
    "y_test_pred = best_model.predict(X_test)\n",
    "\n",
    "# Evaluate the best model on the test set\n",
    "accuracy_test = accuracy_score(y_test, y_test_pred)\n",
    "print(f'Best Model - Test Accuracy: {accuracy_test:.2f}')\n",
    "print(classification_report(y_test, y_test_pred))\n",
    "print(confusion_matrix(y_test, y_test_pred))"
   ]
  }
 ],
 "metadata": {
  "colab": {
   "provenance": []
  },
  "kernelspec": {
   "display_name": "Python 3 (ipykernel)",
   "language": "python",
   "name": "python3"
  },
  "language_info": {
   "codemirror_mode": {
    "name": "ipython",
    "version": 3
   },
   "file_extension": ".py",
   "mimetype": "text/x-python",
   "name": "python",
   "nbconvert_exporter": "python",
   "pygments_lexer": "ipython3",
   "version": "3.10.9"
  },
  "varInspector": {
   "cols": {
    "lenName": 16,
    "lenType": 16,
    "lenVar": 40
   },
   "kernels_config": {
    "python": {
     "delete_cmd_postfix": "",
     "delete_cmd_prefix": "del ",
     "library": "var_list.py",
     "varRefreshCmd": "print(var_dic_list())"
    },
    "r": {
     "delete_cmd_postfix": ") ",
     "delete_cmd_prefix": "rm(",
     "library": "var_list.r",
     "varRefreshCmd": "cat(var_dic_list()) "
    }
   },
   "types_to_exclude": [
    "module",
    "function",
    "builtin_function_or_method",
    "instance",
    "_Feature"
   ],
   "window_display": false
  }
 },
 "nbformat": 4,
 "nbformat_minor": 1
}
