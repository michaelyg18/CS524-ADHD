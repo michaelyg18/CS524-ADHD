{
 "cells": [
  {
   "cell_type": "code",
   "execution_count": 68,
   "metadata": {
    "id": "UWAHOCxEFNEr"
   },
   "outputs": [],
   "source": [
    "# Import necessary libraries\n",
    "import pandas as pd\n",
    "from sklearn.model_selection import train_test_split\n",
    "from sklearn.preprocessing import StandardScaler\n",
    "from sklearn.impute import SimpleImputer\n",
    "from sklearn.ensemble import RandomForestClassifier\n",
    "from sklearn.svm import SVC\n",
    "from sklearn.linear_model import LogisticRegression\n",
    "from sklearn.gaussian_process import GaussianProcessClassifier\n",
    "from sklearn.metrics import accuracy_score, classification_report, confusion_matrix\n",
    "import matplotlib.pyplot as plt\n",
    "from matplotlib.ticker import MaxNLocator\n",
    "import seaborn as sns\n",
    "import plotly.graph_objects as go\n",
    "import numpy as np"
   ]
  },
  {
   "cell_type": "code",
   "execution_count": 45,
   "metadata": {
    "id": "MYttsAwXGLJ1"
   },
   "outputs": [],
   "source": [
    "# Load the dataset\n",
    "# topical is detailed questionnaire of  one sampled child from the screener\n",
    "topical_2022 = pd.read_stata('.\\\\datasets\\\\2022\\\\nsch_2022e_topical.dta')\n",
    "topical_2021 = pd.read_stata('.\\\\datasets\\\\2021\\\\nsch_2021e_topical.dta')\n",
    "\n",
    "\n",
    "# topical_2022.keys() #490\n",
    "# topical_2021.keys() #463\n",
    "\n",
    "# combined dataset\n",
    "df = pd.concat((topical_2022, topical_2021))"
   ]
  },
  {
   "cell_type": "markdown",
   "metadata": {},
   "source": [
    "# Overall Data Stats"
   ]
  },
  {
   "cell_type": "code",
   "execution_count": 44,
   "metadata": {},
   "outputs": [
    {
     "data": {
      "text/plain": [
       "0        False\n",
       "1        False\n",
       "2        False\n",
       "3        False\n",
       "4        False\n",
       "         ...  \n",
       "50887    False\n",
       "50888    False\n",
       "50889    False\n",
       "50890     True\n",
       "50891    False\n",
       "Name: k2q31a, Length: 104995, dtype: bool"
      ]
     },
     "execution_count": 44,
     "metadata": {},
     "output_type": "execute_result"
    }
   ],
   "source": [
    "df.keys() # 513\n",
    "len(df) # 104995\n",
    "df['k2q31a']"
   ]
  },
  {
   "cell_type": "code",
   "execution_count": 46,
   "metadata": {},
   "outputs": [
    {
     "name": "stderr",
     "output_type": "stream",
     "text": [
      "C:\\Users\\Michael\\AppData\\Local\\Temp\\ipykernel_68556\\2113743796.py:8: PerformanceWarning:\n",
      "\n",
      "DataFrame is highly fragmented.  This is usually the result of calling `frame.insert` many times, which has poor performance.  Consider joining all columns at once using pd.concat(axis=1) instead. To get a de-fragmented frame, use `newframe = frame.copy()`\n",
      "\n"
     ]
    },
    {
     "data": {
      "text/plain": [
       "0        False\n",
       "1        False\n",
       "2        False\n",
       "3        False\n",
       "4        False\n",
       "         ...  \n",
       "50887    False\n",
       "50888    False\n",
       "50889    False\n",
       "50890     True\n",
       "50891    False\n",
       "Name: ADD_IND, Length: 104995, dtype: bool"
      ]
     },
     "execution_count": 46,
     "metadata": {},
     "output_type": "execute_result"
    }
   ],
   "source": [
    "# Combine diagnosis and severity into a new target variable ranging from 0 to 3\n",
    "# k2q31a: add diagnosis 1 = yes, 2 = no\n",
    "df['k2q31a'] = df['k2q31a'] == 1 #assign 0 to 'No' instead of 2\n",
    "# k2q31b: add currently 1 = yes, 2 = no\n",
    "df['k2q31b'] = df['k2q31b'] == 1 #assign 0 to 'No' instead of 2\n",
    "# making ADD indicator variable (true/false)\n",
    "# only classify as add if they were told they have it and currently still do\n",
    "df['ADD_IND'] = df['k2q31a'] * df['k2q31b']\n",
    "df = df.copy()"
   ]
  },
  {
   "cell_type": "code",
   "execution_count": 54,
   "metadata": {},
   "outputs": [
    {
     "name": "stdout",
     "output_type": "stream",
     "text": [
      "Number of ADD: 9397\n",
      "Percentage ADD: 8.949949997618935\n"
     ]
    }
   ],
   "source": [
    "num_add = df['ADD_IND'].sum()\n",
    "print(\"Number of ADD:\", num_add)\n",
    "print(\"Percentage ADD:\", num_add/len(df) * 100)"
   ]
  },
  {
   "cell_type": "code",
   "execution_count": 83,
   "metadata": {},
   "outputs": [
    {
     "data": {
      "text/plain": [
       "Text(0.5, 1.0, 'Age distribution of children with ADHD')"
      ]
     },
     "execution_count": 83,
     "metadata": {},
     "output_type": "execute_result"
    },
    {
     "data": {
      "image/png": "[encoded data removed]",
      "text/plain": [
       "<Figure size 640x480 with 1 Axes>"
      ]
     },
     "metadata": {},
     "output_type": "display_data"
    }
   ],
   "source": [
    "# age distribution of those with ADD\n",
    "fig, ax = plt.subplots()\n",
    "ax.xaxis.set_major_locator(MaxNLocator(integer=True))\n",
    "df[df['ADD_IND']].hist(column='sc_age_years', bins=18, ax=ax, grid=False)\n",
    "ax.set_xlabel(\"Age\")\n",
    "ax.set_title(\"Age distribution of children with ADHD\")"
   ]
  },
  {
   "cell_type": "code",
   "execution_count": 56,
   "metadata": {},
   "outputs": [],
   "source": [
    "# create severity\n",
    "# k2q31c: add severity 1 = mild, 2 = moderate, 3 = severe\n",
    "df['ADD_SEVERITY'] = df['ADD_IND'] * df['k2q31c'].fillna(0)\n",
    "\n",
    "# # don't include: stratum (1 or 2a), householdid, formtype (1-3), k2q31d (add medication), any of previous targets\n",
    "# ex_features = ['stratum', 'hhid', 'formtype', 'addtreat', 'k2q31d', 'k2q31a', 'k2q31c', 'k2q34c', 'k2q31b']\n",
    "# data = data.drop(columns = ex_features)"
   ]
  },
  {
   "cell_type": "code",
   "execution_count": 58,
   "metadata": {},
   "outputs": [
    {
     "data": {
      "text/plain": [
       "9325"
      ]
     },
     "execution_count": 58,
     "metadata": {},
     "output_type": "execute_result"
    }
   ],
   "source": [
    "# seeing total of those that have an ADHD severity too\n",
    "sum(df['ADD_SEVERITY'] != 0)"
   ]
  },
  {
   "cell_type": "code",
   "execution_count": 86,
   "metadata": {},
   "outputs": [],
   "source": [
    "# grouping by fips code for state distribution of ADD/population (prevalence)\n",
    "fips_group = df.groupby(['fipsst'])\n",
    "fips_add_freq = fips_group['ADD_IND'].sum() / fips_group['fipsst'].sum()\n",
    "# fips_add_freq = (fips_add_freq.to_frame(name='ADD_FREQ')).reset_index()\n",
    "fips_add_freq = (np.log(fips_add_freq.to_frame(name='ADD_FREQ') * 1000)).reset_index()"
   ]
  },
  {
   "cell_type": "code",
   "execution_count": 89,
   "metadata": {
    "scrolled": false
   },
   "outputs": [
    {
     "data": {
      "application/vnd.plotly.v1+json": {
       "config": {
        "plotlyServerURL": "https://plot.ly"
       },
       "data": [
        {
         "colorbar": {
          "title": {
           "text": "Log ADHD rate"
          }
         },
         "colorscale": [
          [
           0,
           "rgb(247,251,255)"
          ],
          [
           0.125,
           "rgb(222,235,247)"
          ],
          [
           0.25,
           "rgb(198,219,239)"
          ],
          [
           0.375,
           "rgb(158,202,225)"
          ],
          [
           0.5,
           "rgb(107,174,214)"
          ],
          [
           0.625,
           "rgb(66,146,198)"
          ],
          [
           0.75,
           "rgb(33,113,181)"
          ],
          [
           0.875,
           "rgb(8,81,156)"
          ],
          [
           1,
           "rgb(8,48,107)"
          ]
         ],
         "locationmode": "USA-states",
         "locations": [
          "AL",
          "AK",
          "AZ",
          "AR",
          "CA",
          "CO",
          "CT",
          "DE",
          "FL",
          "GA",
          "HI",
          "ID",
          "IL",
          "IN",
          "IA",
          "KS",
          "KY",
          "LA",
          "ME",
          "MD",
          "MA",
          "MI",
          "MN",
          "MS",
          "MO",
          "MT",
          "NE",
          "NV",
          "NH",
          "NJ",
          "NM",
          "NY",
          "NC",
          "ND",
          "OH",
          "OK",
          "OR",
          "PA",
          "RI",
          "SC",
          "SD",
          "TN",
          "TX",
          "UT",
          "VT",
          "VA",
          "WA",
          "WV",
          "WI",
          "WY"
         ],
         "type": "choropleth",
         "z": [
          4.6539897623547635,
          3.583384493712697,
          2.8026579249837744,
          3.116517259537449,
          2.44282777105913,
          2.329366528255579,
          2.1006889330754617,
          2.1404183381785513,
          1.7277504249733264,
          2.1128834289024683,
          2.003643122386627,
          1.3303867291815945,
          1.7625890919282752,
          1.4343424007318852,
          1.8749434692345393,
          1.3125171523237547,
          1.4259908631184113,
          1.5723437880278597,
          1.9061698204057993,
          1.5095218786061415,
          1.2799743059673645,
          1.404245941923984,
          1.1842146402475666,
          1.067613383096617,
          1.5091245952391676,
          1.0791387982135419,
          1.0453312451361247,
          0.8947603786612426,
          0.6803316916764437,
          1.1861661856764711,
          0.8067247857338169,
          0.8130406505723421,
          0.8203664900302706,
          1.0142106013835328,
          0.7839910134795544,
          1.0493145080909076,
          0.9481894789548658,
          0.9131399630585384,
          0.6337749070599764,
          0.918960960430034,
          1.0529499345886861,
          0.5209251141613817,
          0.805204561640669,
          0.5811892973867208,
          0.4175612278926954,
          0.49794596090232945,
          0.6321323909664188,
          0.48014467216084383,
          0.7556215019661457,
          0.32639991048817235,
          0.37206550056718374
         ]
        }
       ],
       "layout": {
        "geo": {
         "scope": "usa"
        },
        "template": {
         "data": {
          "bar": [
           {
            "error_x": {
             "color": "#2a3f5f"
            },
            "error_y": {
             "color": "#2a3f5f"
            },
            "marker": {
             "line": {
              "color": "#E5ECF6",
              "width": 0.5
             },
             "pattern": {
              "fillmode": "overlay",
              "size": 10,
              "solidity": 0.2
             }
            },
            "type": "bar"
           }
          ],
          "barpolar": [
           {
            "marker": {
             "line": {
              "color": "#E5ECF6",
              "width": 0.5
             },
             "pattern": {
              "fillmode": "overlay",
              "size": 10,
              "solidity": 0.2
             }
            },
            "type": "barpolar"
           }
          ],
          "carpet": [
           {
            "aaxis": {
             "endlinecolor": "#2a3f5f",
             "gridcolor": "white",
             "linecolor": "white",
             "minorgridcolor": "white",
             "startlinecolor": "#2a3f5f"
            },
            "baxis": {
             "endlinecolor": "#2a3f5f",
             "gridcolor": "white",
             "linecolor": "white",
             "minorgridcolor": "white",
             "startlinecolor": "#2a3f5f"
            },
            "type": "carpet"
           }
          ],
          "choropleth": [
           {
            "colorbar": {
             "outlinewidth": 0,
             "ticks": ""
            },
            "type": "choropleth"
           }
          ],
          "contour": [
           {
            "colorbar": {
             "outlinewidth": 0,
             "ticks": ""
            },
            "colorscale": [
             [
              0,
              "#0d0887"
             ],
             [
              0.1111111111111111,
              "#46039f"
             ],
             [
              0.2222222222222222,
              "#7201a8"
             ],
             [
              0.3333333333333333,
              "#9c179e"
             ],
             [
              0.4444444444444444,
              "#bd3786"
             ],
             [
              0.5555555555555556,
              "#d8576b"
             ],
             [
              0.6666666666666666,
              "#ed7953"
             ],
             [
              0.7777777777777778,
              "#fb9f3a"
             ],
             [
              0.8888888888888888,
              "#fdca26"
             ],
             [
              1,
              "#f0f921"
             ]
            ],
            "type": "contour"
           }
          ],
          "contourcarpet": [
           {
            "colorbar": {
             "outlinewidth": 0,
             "ticks": ""
            },
            "type": "contourcarpet"
           }
          ],
          "heatmap": [
           {
            "colorbar": {
             "outlinewidth": 0,
             "ticks": ""
            },
            "colorscale": [
             [
              0,
              "#0d0887"
             ],
             [
              0.1111111111111111,
              "#46039f"
             ],
             [
              0.2222222222222222,
              "#7201a8"
             ],
             [
              0.3333333333333333,
              "#9c179e"
             ],
             [
              0.4444444444444444,
              "#bd3786"
             ],
             [
              0.5555555555555556,
              "#d8576b"
             ],
             [
              0.6666666666666666,
              "#ed7953"
             ],
             [
              0.7777777777777778,
              "#fb9f3a"
             ],
             [
              0.8888888888888888,
              "#fdca26"
             ],
             [
              1,
              "#f0f921"
             ]
            ],
            "type": "heatmap"
           }
          ],
          "heatmapgl": [
           {
            "colorbar": {
             "outlinewidth": 0,
             "ticks": ""
            },
            "colorscale": [
             [
              0,
              "#0d0887"
             ],
             [
              0.1111111111111111,
              "#46039f"
             ],
             [
              0.2222222222222222,
              "#7201a8"
             ],
             [
              0.3333333333333333,
              "#9c179e"
             ],
             [
              0.4444444444444444,
              "#bd3786"
             ],
             [
              0.5555555555555556,
              "#d8576b"
             ],
             [
              0.6666666666666666,
              "#ed7953"
             ],
             [
              0.7777777777777778,
              "#fb9f3a"
             ],
             [
              0.8888888888888888,
              "#fdca26"
             ],
             [
              1,
              "#f0f921"
             ]
            ],
            "type": "heatmapgl"
           }
          ],
          "histogram": [
           {
            "marker": {
             "pattern": {
              "fillmode": "overlay",
              "size": 10,
              "solidity": 0.2
             }
            },
            "type": "histogram"
           }
          ],
          "histogram2d": [
           {
            "colorbar": {
             "outlinewidth": 0,
             "ticks": ""
            },
            "colorscale": [
             [
              0,
              "#0d0887"
             ],
             [
              0.1111111111111111,
              "#46039f"
             ],
             [
              0.2222222222222222,
              "#7201a8"
             ],
             [
              0.3333333333333333,
              "#9c179e"
             ],
             [
              0.4444444444444444,
              "#bd3786"
             ],
             [
              0.5555555555555556,
              "#d8576b"
             ],
             [
              0.6666666666666666,
              "#ed7953"
             ],
             [
              0.7777777777777778,
              "#fb9f3a"
             ],
             [
              0.8888888888888888,
              "#fdca26"
             ],
             [
              1,
              "#f0f921"
             ]
            ],
            "type": "histogram2d"
           }
          ],
          "histogram2dcontour": [
           {
            "colorbar": {
             "outlinewidth": 0,
             "ticks": ""
            },
            "colorscale": [
             [
              0,
              "#0d0887"
             ],
             [
              0.1111111111111111,
              "#46039f"
             ],
             [
              0.2222222222222222,
              "#7201a8"
             ],
             [
              0.3333333333333333,
              "#9c179e"
             ],
             [
              0.4444444444444444,
              "#bd3786"
             ],
             [
              0.5555555555555556,
              "#d8576b"
             ],
             [
              0.6666666666666666,
              "#ed7953"
             ],
             [
              0.7777777777777778,
              "#fb9f3a"
             ],
             [
              0.8888888888888888,
              "#fdca26"
             ],
             [
              1,
              "#f0f921"
             ]
            ],
            "type": "histogram2dcontour"
           }
          ],
          "mesh3d": [
           {
            "colorbar": {
             "outlinewidth": 0,
             "ticks": ""
            },
            "type": "mesh3d"
           }
          ],
          "parcoords": [
           {
            "line": {
             "colorbar": {
              "outlinewidth": 0,
              "ticks": ""
             }
            },
            "type": "parcoords"
           }
          ],
          "pie": [
           {
            "automargin": true,
            "type": "pie"
           }
          ],
          "scatter": [
           {
            "fillpattern": {
             "fillmode": "overlay",
             "size": 10,
             "solidity": 0.2
            },
            "type": "scatter"
           }
          ],
          "scatter3d": [
           {
            "line": {
             "colorbar": {
              "outlinewidth": 0,
              "ticks": ""
             }
            },
            "marker": {
             "colorbar": {
              "outlinewidth": 0,
              "ticks": ""
             }
            },
            "type": "scatter3d"
           }
          ],
          "scattercarpet": [
           {
            "marker": {
             "colorbar": {
              "outlinewidth": 0,
              "ticks": ""
             }
            },
            "type": "scattercarpet"
           }
          ],
          "scattergeo": [
           {
            "marker": {
             "colorbar": {
              "outlinewidth": 0,
              "ticks": ""
             }
            },
            "type": "scattergeo"
           }
          ],
          "scattergl": [
           {
            "marker": {
             "colorbar": {
              "outlinewidth": 0,
              "ticks": ""
             }
            },
            "type": "scattergl"
           }
          ],
          "scattermapbox": [
           {
            "marker": {
             "colorbar": {
              "outlinewidth": 0,
              "ticks": ""
             }
            },
            "type": "scattermapbox"
           }
          ],
          "scatterpolar": [
           {
            "marker": {
             "colorbar": {
              "outlinewidth": 0,
              "ticks": ""
             }
            },
            "type": "scatterpolar"
           }
          ],
          "scatterpolargl": [
           {
            "marker": {
             "colorbar": {
              "outlinewidth": 0,
              "ticks": ""
             }
            },
            "type": "scatterpolargl"
           }
          ],
          "scatterternary": [
           {
            "marker": {
             "colorbar": {
              "outlinewidth": 0,
              "ticks": ""
             }
            },
            "type": "scatterternary"
           }
          ],
          "surface": [
           {
            "colorbar": {
             "outlinewidth": 0,
             "ticks": ""
            },
            "colorscale": [
             [
              0,
              "#0d0887"
             ],
             [
              0.1111111111111111,
              "#46039f"
             ],
             [
              0.2222222222222222,
              "#7201a8"
             ],
             [
              0.3333333333333333,
              "#9c179e"
             ],
             [
              0.4444444444444444,
              "#bd3786"
             ],
             [
              0.5555555555555556,
              "#d8576b"
             ],
             [
              0.6666666666666666,
              "#ed7953"
             ],
             [
              0.7777777777777778,
              "#fb9f3a"
             ],
             [
              0.8888888888888888,
              "#fdca26"
             ],
             [
              1,
              "#f0f921"
             ]
            ],
            "type": "surface"
           }
          ],
          "table": [
           {
            "cells": {
             "fill": {
              "color": "#EBF0F8"
             },
             "line": {
              "color": "white"
             }
            },
            "header": {
             "fill": {
              "color": "#C8D4E3"
             },
             "line": {
              "color": "white"
             }
            },
            "type": "table"
           }
          ]
         },
         "layout": {
          "annotationdefaults": {
           "arrowcolor": "#2a3f5f",
           "arrowhead": 0,
           "arrowwidth": 1
          },
          "autotypenumbers": "strict",
          "coloraxis": {
           "colorbar": {
            "outlinewidth": 0,
            "ticks": ""
           }
          },
          "colorscale": {
           "diverging": [
            [
             0,
             "#8e0152"
            ],
            [
             0.1,
             "#c51b7d"
            ],
            [
             0.2,
             "#de77ae"
            ],
            [
             0.3,
             "#f1b6da"
            ],
            [
             0.4,
             "#fde0ef"
            ],
            [
             0.5,
             "#f7f7f7"
            ],
            [
             0.6,
             "#e6f5d0"
            ],
            [
             0.7,
             "#b8e186"
            ],
            [
             0.8,
             "#7fbc41"
            ],
            [
             0.9,
             "#4d9221"
            ],
            [
             1,
             "#276419"
            ]
           ],
           "sequential": [
            [
             0,
             "#0d0887"
            ],
            [
             0.1111111111111111,
             "#46039f"
            ],
            [
             0.2222222222222222,
             "#7201a8"
            ],
            [
             0.3333333333333333,
             "#9c179e"
            ],
            [
             0.4444444444444444,
             "#bd3786"
            ],
            [
             0.5555555555555556,
             "#d8576b"
            ],
            [
             0.6666666666666666,
             "#ed7953"
            ],
            [
             0.7777777777777778,
             "#fb9f3a"
            ],
            [
             0.8888888888888888,
             "#fdca26"
            ],
            [
             1,
             "#f0f921"
            ]
           ],
           "sequentialminus": [
            [
             0,
             "#0d0887"
            ],
            [
             0.1111111111111111,
             "#46039f"
            ],
            [
             0.2222222222222222,
             "#7201a8"
            ],
            [
             0.3333333333333333,
             "#9c179e"
            ],
            [
             0.4444444444444444,
             "#bd3786"
            ],
            [
             0.5555555555555556,
             "#d8576b"
            ],
            [
             0.6666666666666666,
             "#ed7953"
            ],
            [
             0.7777777777777778,
             "#fb9f3a"
            ],
            [
             0.8888888888888888,
             "#fdca26"
            ],
            [
             1,
             "#f0f921"
            ]
           ]
          },
          "colorway": [
           "#636efa",
           "#EF553B",
           "#00cc96",
           "#ab63fa",
           "#FFA15A",
           "#19d3f3",
           "#FF6692",
           "#B6E880",
           "#FF97FF",
           "#FECB52"
          ],
          "font": {
           "color": "#2a3f5f"
          },
          "geo": {
           "bgcolor": "white",
           "lakecolor": "white",
           "landcolor": "#E5ECF6",
           "showlakes": true,
           "showland": true,
           "subunitcolor": "white"
          },
          "hoverlabel": {
           "align": "left"
          },
          "hovermode": "closest",
          "mapbox": {
           "style": "light"
          },
          "paper_bgcolor": "white",
          "plot_bgcolor": "#E5ECF6",
          "polar": {
           "angularaxis": {
            "gridcolor": "white",
            "linecolor": "white",
            "ticks": ""
           },
           "bgcolor": "#E5ECF6",
           "radialaxis": {
            "gridcolor": "white",
            "linecolor": "white",
            "ticks": ""
           }
          },
          "scene": {
           "xaxis": {
            "backgroundcolor": "#E5ECF6",
            "gridcolor": "white",
            "gridwidth": 2,
            "linecolor": "white",
            "showbackground": true,
            "ticks": "",
            "zerolinecolor": "white"
           },
           "yaxis": {
            "backgroundcolor": "#E5ECF6",
            "gridcolor": "white",
            "gridwidth": 2,
            "linecolor": "white",
            "showbackground": true,
            "ticks": "",
            "zerolinecolor": "white"
           },
           "zaxis": {
            "backgroundcolor": "#E5ECF6",
            "gridcolor": "white",
            "gridwidth": 2,
            "linecolor": "white",
            "showbackground": true,
            "ticks": "",
            "zerolinecolor": "white"
           }
          },
          "shapedefaults": {
           "line": {
            "color": "#2a3f5f"
           }
          },
          "ternary": {
           "aaxis": {
            "gridcolor": "white",
            "linecolor": "white",
            "ticks": ""
           },
           "baxis": {
            "gridcolor": "white",
            "linecolor": "white",
            "ticks": ""
           },
           "bgcolor": "#E5ECF6",
           "caxis": {
            "gridcolor": "white",
            "linecolor": "white",
            "ticks": ""
           }
          },
          "title": {
           "x": 0.05
          },
          "xaxis": {
           "automargin": true,
           "gridcolor": "white",
           "linecolor": "white",
           "ticks": "",
           "title": {
            "standoff": 15
           },
           "zerolinecolor": "white",
           "zerolinewidth": 2
          },
          "yaxis": {
           "automargin": true,
           "gridcolor": "white",
           "linecolor": "white",
           "ticks": "",
           "title": {
            "standoff": 15
           },
           "zerolinecolor": "white",
           "zerolinewidth": 2
          }
         }
        },
        "title": {
         "text": "2022 ADHD diagnoses per 1000 people (log scale)"
        }
       }
      },
      "text/html": [
       "<div>                            <div id=\"7b6854ff-e43f-464d-a3b0-766bd7370c04\" class=\"plotly-graph-div\" style=\"height:525px; width:100%;\"></div>            <script type=\"text/javascript\">                require([\"plotly\"], function(Plotly) {                    window.PLOTLYENV=window.PLOTLYENV || {};                                    if (document.getElementById(\"7b6854ff-e43f-464d-a3b0-766bd7370c04\")) {                    Plotly.newPlot(                        \"7b6854ff-e43f-464d-a3b0-766bd7370c04\",                        [{\"colorbar\":{\"title\":{\"text\":\"Log ADHD rate\"}},\"colorscale\":[[0.0,\"rgb(247,251,255)\"],[0.125,\"rgb(222,235,247)\"],[0.25,\"rgb(198,219,239)\"],[0.375,\"rgb(158,202,225)\"],[0.5,\"rgb(107,174,214)\"],[0.625,\"rgb(66,146,198)\"],[0.75,\"rgb(33,113,181)\"],[0.875,\"rgb(8,81,156)\"],[1.0,\"rgb(8,48,107)\"]],\"locationmode\":\"USA-states\",\"locations\":[\"AL\",\"AK\",\"AZ\",\"AR\",\"CA\",\"CO\",\"CT\",\"DE\",\"FL\",\"GA\",\"HI\",\"ID\",\"IL\",\"IN\",\"IA\",\"KS\",\"KY\",\"LA\",\"ME\",\"MD\",\"MA\",\"MI\",\"MN\",\"MS\",\"MO\",\"MT\",\"NE\",\"NV\",\"NH\",\"NJ\",\"NM\",\"NY\",\"NC\",\"ND\",\"OH\",\"OK\",\"OR\",\"PA\",\"RI\",\"SC\",\"SD\",\"TN\",\"TX\",\"UT\",\"VT\",\"VA\",\"WA\",\"WV\",\"WI\",\"WY\"],\"z\":[4.6539897623547635,3.583384493712697,2.8026579249837744,3.116517259537449,2.44282777105913,2.329366528255579,2.1006889330754617,2.1404183381785513,1.7277504249733264,2.1128834289024683,2.003643122386627,1.3303867291815945,1.7625890919282752,1.4343424007318852,1.8749434692345393,1.3125171523237547,1.4259908631184113,1.5723437880278597,1.9061698204057993,1.5095218786061415,1.2799743059673645,1.404245941923984,1.1842146402475666,1.067613383096617,1.5091245952391676,1.0791387982135419,1.0453312451361247,0.8947603786612426,0.6803316916764437,1.1861661856764711,0.8067247857338169,0.8130406505723421,0.8203664900302706,1.0142106013835328,0.7839910134795544,1.0493145080909076,0.9481894789548658,0.9131399630585384,0.6337749070599764,0.918960960430034,1.0529499345886861,0.5209251141613817,0.805204561640669,0.5811892973867208,0.4175612278926954,0.49794596090232945,0.6321323909664188,0.48014467216084383,0.7556215019661457,0.32639991048817235,0.37206550056718374],\"type\":\"choropleth\"}],                        {\"template\":{\"data\":{\"histogram2dcontour\":[{\"type\":\"histogram2dcontour\",\"colorbar\":{\"outlinewidth\":0,\"ticks\":\"\"},\"colorscale\":[[0.0,\"#0d0887\"],[0.1111111111111111,\"#46039f\"],[0.2222222222222222,\"#7201a8\"],[0.3333333333333333,\"#9c179e\"],[0.4444444444444444,\"#bd3786\"],[0.5555555555555556,\"#d8576b\"],[0.6666666666666666,\"#ed7953\"],[0.7777777777777778,\"#fb9f3a\"],[0.8888888888888888,\"#fdca26\"],[1.0,\"#f0f921\"]]}],\"choropleth\":[{\"type\":\"choropleth\",\"colorbar\":{\"outlinewidth\":0,\"ticks\":\"\"}}],\"histogram2d\":[{\"type\":\"histogram2d\",\"colorbar\":{\"outlinewidth\":0,\"ticks\":\"\"},\"colorscale\":[[0.0,\"#0d0887\"],[0.1111111111111111,\"#46039f\"],[0.2222222222222222,\"#7201a8\"],[0.3333333333333333,\"#9c179e\"],[0.4444444444444444,\"#bd3786\"],[0.5555555555555556,\"#d8576b\"],[0.6666666666666666,\"#ed7953\"],[0.7777777777777778,\"#fb9f3a\"],[0.8888888888888888,\"#fdca26\"],[1.0,\"#f0f921\"]]}],\"heatmap\":[{\"type\":\"heatmap\",\"colorbar\":{\"outlinewidth\":0,\"ticks\":\"\"},\"colorscale\":[[0.0,\"#0d0887\"],[0.1111111111111111,\"#46039f\"],[0.2222222222222222,\"#7201a8\"],[0.3333333333333333,\"#9c179e\"],[0.4444444444444444,\"#bd3786\"],[0.5555555555555556,\"#d8576b\"],[0.6666666666666666,\"#ed7953\"],[0.7777777777777778,\"#fb9f3a\"],[0.8888888888888888,\"#fdca26\"],[1.0,\"#f0f921\"]]}],\"heatmapgl\":[{\"type\":\"heatmapgl\",\"colorbar\":{\"outlinewidth\":0,\"ticks\":\"\"},\"colorscale\":[[0.0,\"#0d0887\"],[0.1111111111111111,\"#46039f\"],[0.2222222222222222,\"#7201a8\"],[0.3333333333333333,\"#9c179e\"],[0.4444444444444444,\"#bd3786\"],[0.5555555555555556,\"#d8576b\"],[0.6666666666666666,\"#ed7953\"],[0.7777777777777778,\"#fb9f3a\"],[0.8888888888888888,\"#fdca26\"],[1.0,\"#f0f921\"]]}],\"contourcarpet\":[{\"type\":\"contourcarpet\",\"colorbar\":{\"outlinewidth\":0,\"ticks\":\"\"}}],\"contour\":[{\"type\":\"contour\",\"colorbar\":{\"outlinewidth\":0,\"ticks\":\"\"},\"colorscale\":[[0.0,\"#0d0887\"],[0.1111111111111111,\"#46039f\"],[0.2222222222222222,\"#7201a8\"],[0.3333333333333333,\"#9c179e\"],[0.4444444444444444,\"#bd3786\"],[0.5555555555555556,\"#d8576b\"],[0.6666666666666666,\"#ed7953\"],[0.7777777777777778,\"#fb9f3a\"],[0.8888888888888888,\"#fdca26\"],[1.0,\"#f0f921\"]]}],\"surface\":[{\"type\":\"surface\",\"colorbar\":{\"outlinewidth\":0,\"ticks\":\"\"},\"colorscale\":[[0.0,\"#0d0887\"],[0.1111111111111111,\"#46039f\"],[0.2222222222222222,\"#7201a8\"],[0.3333333333333333,\"#9c179e\"],[0.4444444444444444,\"#bd3786\"],[0.5555555555555556,\"#d8576b\"],[0.6666666666666666,\"#ed7953\"],[0.7777777777777778,\"#fb9f3a\"],[0.8888888888888888,\"#fdca26\"],[1.0,\"#f0f921\"]]}],\"mesh3d\":[{\"type\":\"mesh3d\",\"colorbar\":{\"outlinewidth\":0,\"ticks\":\"\"}}],\"scatter\":[{\"fillpattern\":{\"fillmode\":\"overlay\",\"size\":10,\"solidity\":0.2},\"type\":\"scatter\"}],\"parcoords\":[{\"type\":\"parcoords\",\"line\":{\"colorbar\":{\"outlinewidth\":0,\"ticks\":\"\"}}}],\"scatterpolargl\":[{\"type\":\"scatterpolargl\",\"marker\":{\"colorbar\":{\"outlinewidth\":0,\"ticks\":\"\"}}}],\"bar\":[{\"error_x\":{\"color\":\"#2a3f5f\"},\"error_y\":{\"color\":\"#2a3f5f\"},\"marker\":{\"line\":{\"color\":\"#E5ECF6\",\"width\":0.5},\"pattern\":{\"fillmode\":\"overlay\",\"size\":10,\"solidity\":0.2}},\"type\":\"bar\"}],\"scattergeo\":[{\"type\":\"scattergeo\",\"marker\":{\"colorbar\":{\"outlinewidth\":0,\"ticks\":\"\"}}}],\"scatterpolar\":[{\"type\":\"scatterpolar\",\"marker\":{\"colorbar\":{\"outlinewidth\":0,\"ticks\":\"\"}}}],\"histogram\":[{\"marker\":{\"pattern\":{\"fillmode\":\"overlay\",\"size\":10,\"solidity\":0.2}},\"type\":\"histogram\"}],\"scattergl\":[{\"type\":\"scattergl\",\"marker\":{\"colorbar\":{\"outlinewidth\":0,\"ticks\":\"\"}}}],\"scatter3d\":[{\"type\":\"scatter3d\",\"line\":{\"colorbar\":{\"outlinewidth\":0,\"ticks\":\"\"}},\"marker\":{\"colorbar\":{\"outlinewidth\":0,\"ticks\":\"\"}}}],\"scattermapbox\":[{\"type\":\"scattermapbox\",\"marker\":{\"colorbar\":{\"outlinewidth\":0,\"ticks\":\"\"}}}],\"scatterternary\":[{\"type\":\"scatterternary\",\"marker\":{\"colorbar\":{\"outlinewidth\":0,\"ticks\":\"\"}}}],\"scattercarpet\":[{\"type\":\"scattercarpet\",\"marker\":{\"colorbar\":{\"outlinewidth\":0,\"ticks\":\"\"}}}],\"carpet\":[{\"aaxis\":{\"endlinecolor\":\"#2a3f5f\",\"gridcolor\":\"white\",\"linecolor\":\"white\",\"minorgridcolor\":\"white\",\"startlinecolor\":\"#2a3f5f\"},\"baxis\":{\"endlinecolor\":\"#2a3f5f\",\"gridcolor\":\"white\",\"linecolor\":\"white\",\"minorgridcolor\":\"white\",\"startlinecolor\":\"#2a3f5f\"},\"type\":\"carpet\"}],\"table\":[{\"cells\":{\"fill\":{\"color\":\"#EBF0F8\"},\"line\":{\"color\":\"white\"}},\"header\":{\"fill\":{\"color\":\"#C8D4E3\"},\"line\":{\"color\":\"white\"}},\"type\":\"table\"}],\"barpolar\":[{\"marker\":{\"line\":{\"color\":\"#E5ECF6\",\"width\":0.5},\"pattern\":{\"fillmode\":\"overlay\",\"size\":10,\"solidity\":0.2}},\"type\":\"barpolar\"}],\"pie\":[{\"automargin\":true,\"type\":\"pie\"}]},\"layout\":{\"autotypenumbers\":\"strict\",\"colorway\":[\"#636efa\",\"#EF553B\",\"#00cc96\",\"#ab63fa\",\"#FFA15A\",\"#19d3f3\",\"#FF6692\",\"#B6E880\",\"#FF97FF\",\"#FECB52\"],\"font\":{\"color\":\"#2a3f5f\"},\"hovermode\":\"closest\",\"hoverlabel\":{\"align\":\"left\"},\"paper_bgcolor\":\"white\",\"plot_bgcolor\":\"#E5ECF6\",\"polar\":{\"bgcolor\":\"#E5ECF6\",\"angularaxis\":{\"gridcolor\":\"white\",\"linecolor\":\"white\",\"ticks\":\"\"},\"radialaxis\":{\"gridcolor\":\"white\",\"linecolor\":\"white\",\"ticks\":\"\"}},\"ternary\":{\"bgcolor\":\"#E5ECF6\",\"aaxis\":{\"gridcolor\":\"white\",\"linecolor\":\"white\",\"ticks\":\"\"},\"baxis\":{\"gridcolor\":\"white\",\"linecolor\":\"white\",\"ticks\":\"\"},\"caxis\":{\"gridcolor\":\"white\",\"linecolor\":\"white\",\"ticks\":\"\"}},\"coloraxis\":{\"colorbar\":{\"outlinewidth\":0,\"ticks\":\"\"}},\"colorscale\":{\"sequential\":[[0.0,\"#0d0887\"],[0.1111111111111111,\"#46039f\"],[0.2222222222222222,\"#7201a8\"],[0.3333333333333333,\"#9c179e\"],[0.4444444444444444,\"#bd3786\"],[0.5555555555555556,\"#d8576b\"],[0.6666666666666666,\"#ed7953\"],[0.7777777777777778,\"#fb9f3a\"],[0.8888888888888888,\"#fdca26\"],[1.0,\"#f0f921\"]],\"sequentialminus\":[[0.0,\"#0d0887\"],[0.1111111111111111,\"#46039f\"],[0.2222222222222222,\"#7201a8\"],[0.3333333333333333,\"#9c179e\"],[0.4444444444444444,\"#bd3786\"],[0.5555555555555556,\"#d8576b\"],[0.6666666666666666,\"#ed7953\"],[0.7777777777777778,\"#fb9f3a\"],[0.8888888888888888,\"#fdca26\"],[1.0,\"#f0f921\"]],\"diverging\":[[0,\"#8e0152\"],[0.1,\"#c51b7d\"],[0.2,\"#de77ae\"],[0.3,\"#f1b6da\"],[0.4,\"#fde0ef\"],[0.5,\"#f7f7f7\"],[0.6,\"#e6f5d0\"],[0.7,\"#b8e186\"],[0.8,\"#7fbc41\"],[0.9,\"#4d9221\"],[1,\"#276419\"]]},\"xaxis\":{\"gridcolor\":\"white\",\"linecolor\":\"white\",\"ticks\":\"\",\"title\":{\"standoff\":15},\"zerolinecolor\":\"white\",\"automargin\":true,\"zerolinewidth\":2},\"yaxis\":{\"gridcolor\":\"white\",\"linecolor\":\"white\",\"ticks\":\"\",\"title\":{\"standoff\":15},\"zerolinecolor\":\"white\",\"automargin\":true,\"zerolinewidth\":2},\"scene\":{\"xaxis\":{\"backgroundcolor\":\"#E5ECF6\",\"gridcolor\":\"white\",\"linecolor\":\"white\",\"showbackground\":true,\"ticks\":\"\",\"zerolinecolor\":\"white\",\"gridwidth\":2},\"yaxis\":{\"backgroundcolor\":\"#E5ECF6\",\"gridcolor\":\"white\",\"linecolor\":\"white\",\"showbackground\":true,\"ticks\":\"\",\"zerolinecolor\":\"white\",\"gridwidth\":2},\"zaxis\":{\"backgroundcolor\":\"#E5ECF6\",\"gridcolor\":\"white\",\"linecolor\":\"white\",\"showbackground\":true,\"ticks\":\"\",\"zerolinecolor\":\"white\",\"gridwidth\":2}},\"shapedefaults\":{\"line\":{\"color\":\"#2a3f5f\"}},\"annotationdefaults\":{\"arrowcolor\":\"#2a3f5f\",\"arrowhead\":0,\"arrowwidth\":1},\"geo\":{\"bgcolor\":\"white\",\"landcolor\":\"#E5ECF6\",\"subunitcolor\":\"white\",\"showland\":true,\"showlakes\":true,\"lakecolor\":\"white\"},\"title\":{\"x\":0.05},\"mapbox\":{\"style\":\"light\"}}},\"title\":{\"text\":\"2022 ADHD diagnoses per 1000 people (log scale)\"},\"geo\":{\"scope\":\"usa\"}},                        {\"responsive\": true}                    ).then(function(){\n",
       "                            \n",
       "var gd = document.getElementById('7b6854ff-e43f-464d-a3b0-766bd7370c04');\n",
       "var x = new MutationObserver(function (mutations, observer) {{\n",
       "        var display = window.getComputedStyle(gd).display;\n",
       "        if (!display || display === 'none') {{\n",
       "            console.log([gd, 'removed!']);\n",
       "            Plotly.purge(gd);\n",
       "            observer.disconnect();\n",
       "        }}\n",
       "}});\n",
       "\n",
       "// Listen for the removal of the full notebook cells\n",
       "var notebookContainer = gd.closest('#notebook-container');\n",
       "if (notebookContainer) {{\n",
       "    x.observe(notebookContainer, {childList: true});\n",
       "}}\n",
       "\n",
       "// Listen for the clearing of the current output cell\n",
       "var outputEl = gd.closest('.output');\n",
       "if (outputEl) {{\n",
       "    x.observe(outputEl, {childList: true});\n",
       "}}\n",
       "\n",
       "                        })                };                });            </script>        </div>"
      ]
     },
     "metadata": {},
     "output_type": "display_data"
    }
   ],
   "source": [
    "states = [ 'AL','AK','AZ','AR','CA','CO','CT','DE','FL','GA','HI','ID','IL','IN','IA','KS','KY',\n",
    "          'LA','ME','MD','MA','MI','MN','MS','MO','MT','NE','NV','NH','NJ','NM','NY','NC','ND',\n",
    "          'OH','OK','OR','PA','RI','SC','SD','TN','TX','UT','VT','VA','WA','WV','WI','WY']\n",
    "\n",
    "fig = go.Figure(data=go.Choropleth(\n",
    "    locations=states, # Spatial coordinates\n",
    "    z = fips_add_freq['ADD_FREQ'], # Data to be color-coded\n",
    "    locationmode = 'USA-states', # set of locations match entries in `locations`\n",
    "    colorscale = 'blues',\n",
    "    colorbar_title = \"Log ADHD rate\",\n",
    "))\n",
    "\n",
    "fig.update_layout(\n",
    "    title_text = '2022 ADHD diagnoses per 1000 people (log scale)',\n",
    "    geo_scope='usa', # limite map scope to USA\n",
    ")\n",
    "\n",
    "fig.show()"
   ]
  },
  {
   "cell_type": "code",
   "execution_count": 8,
   "metadata": {},
   "outputs": [
    {
     "data": {
      "text/plain": [
       "19741"
      ]
     },
     "execution_count": 8,
     "metadata": {},
     "output_type": "execute_result"
    }
   ],
   "source": [
    "# plt.hist(data[data['ADD_SEVERITY'] >= 1]['ADD_SEVERITY'], tight_layout=True)\n",
    "len(topical_2022[topical_2022['formtype'] == 'T1'])"
   ]
  },
  {
   "cell_type": "markdown",
   "metadata": {},
   "source": [
    "Experiments"
   ]
  },
  {
   "cell_type": "code",
   "execution_count": 9,
   "metadata": {},
   "outputs": [],
   "source": [
    "# calculate n for each target category\n",
    "noADD = (data[target_variable] == 0).sum()\n",
    "sev1 = (data[target_variable] == 1).sum()\n",
    "sev2 = (data[target_variable] == 2).sum()\n",
    "sev3 = (data[target_variable] == 3).sum()"
   ]
  },
  {
   "cell_type": "code",
   "execution_count": 10,
   "metadata": {
    "id": "Ow3cM0b0LXxn"
   },
   "outputs": [
    {
     "name": "stdout",
     "output_type": "stream",
     "text": [
      "Features with high correlation with the target:\n",
      "['ADD_IND', 'hcability', 'totcshcn', 'k7q84_r', 'k7q83_r', 'makefriend', 'k8q31', 'k7q04r_r', 'k7q85_r', 'k7q82_r', 'bullied_r', 'k8q32', 'genetic_desc', 'k2q35a_1_years', 'bully', 'hcextent', 'sesplanyr', 'c4q04', 'focuson', 'k2q33c', 'k4q37', 'k6q71_r', 'k2q38c', 'sc_k2q19', 'waitforturn', 'calmdown_r', 'arrangehc', 'k2q34b', 'menbevcov', 'k2q36a', 'k2q35a', 'k7q70_r', 'ace11', 'totnonshcn', 'k4q28x04', 'sc_k2q16', 'distracted', 'k2q32a', 'k4q36', 'errandalone', 'ssidisability', 'sc_k2q20', 'k6q15', 'k2q33a', 'k2q30a', 'k4q22_r', 'autismmed', 'sc_k2q13', 'sc_k2q10', 'sc_cshcn', 'sc_k2q22', 'k2q34a', 'memorycond', 'k4q23']\n"
     ]
    }
   ],
   "source": [
    "# Identify features with high correlation with the target\n",
    "\n",
    "# Convert categorical columns to numerical\n",
    "data_conv = data.copy()\n",
    "categ = ['inq_edu', 'inq_employ', 'inq_home', 'inq_income', 'inq_resseg']\n",
    "data_conv[categ] = data[categ].replace({'LOW': 0, 'HIGH': 1})\n",
    "\n",
    "correlation_matrix = data_conv.corr()\n",
    "\n",
    "# Extract the correlation of the target variable with all other variables (exclude the target variable)\n",
    "target_correlation = correlation_matrix.loc[target_variable].sort_values(ascending=False).drop(target_variable)\n",
    "\n",
    "highly_correlated_features = target_correlation[abs(target_correlation) > 0.2].index.tolist()\n",
    "\n",
    "print(\"Features with high correlation with the target:\")\n",
    "print(highly_correlated_features)"
   ]
  },
  {
   "cell_type": "code",
   "execution_count": 11,
   "metadata": {},
   "outputs": [
    {
     "data": {
      "text/plain": [
       "0.3266904480974043"
      ]
     },
     "execution_count": 11,
     "metadata": {},
     "output_type": "execute_result"
    }
   ],
   "source": [
    "correlation_matrix.loc['k8q31', target_variable]"
   ]
  },
  {
   "cell_type": "code",
   "execution_count": 12,
   "metadata": {},
   "outputs": [
    {
     "name": "stderr",
     "output_type": "stream",
     "text": [
      "C:\\Users\\Michael\\anaconda3\\envs\\cs590w\\lib\\site-packages\\seaborn\\_oldcore.py:1498: FutureWarning:\n",
      "\n",
      "is_categorical_dtype is deprecated and will be removed in a future version. Use isinstance(dtype, CategoricalDtype) instead\n",
      "\n",
      "C:\\Users\\Michael\\anaconda3\\envs\\cs590w\\lib\\site-packages\\seaborn\\_oldcore.py:1498: FutureWarning:\n",
      "\n",
      "is_categorical_dtype is deprecated and will be removed in a future version. Use isinstance(dtype, CategoricalDtype) instead\n",
      "\n",
      "C:\\Users\\Michael\\anaconda3\\envs\\cs590w\\lib\\site-packages\\seaborn\\_oldcore.py:1498: FutureWarning:\n",
      "\n",
      "is_categorical_dtype is deprecated and will be removed in a future version. Use isinstance(dtype, CategoricalDtype) instead\n",
      "\n"
     ]
    },
    {
     "data": {
      "image/png": "[encoded data removed]",
      "text/plain": [
       "<Figure size 1200x600 with 1 Axes>"
      ]
     },
     "metadata": {},
     "output_type": "display_data"
    }
   ],
   "source": [
    "# Visualize Correlations with target variable\n",
    "plt.figure(figsize=(12, 6))\n",
    "sns.barplot(x=target_correlation.index, y=target_correlation.values, palette='viridis')\n",
    "plt.title('Correlation with Target Variable')\n",
    "plt.ylabel('Correlation Coefficient')\n",
    "plt.xticks(rotation=45, ha='right')\n",
    "plt.show()"
   ]
  },
  {
   "cell_type": "code",
   "execution_count": 13,
   "metadata": {},
   "outputs": [
    {
     "ename": "NameError",
     "evalue": "name 'reduced_features' is not defined",
     "output_type": "error",
     "traceback": [
      "\u001b[1;31m---------------------------------------------------------------------------\u001b[0m",
      "\u001b[1;31mNameError\u001b[0m                                 Traceback (most recent call last)",
      "Cell \u001b[1;32mIn[13], line 1\u001b[0m\n\u001b[1;32m----> 1\u001b[0m \u001b[43mreduced_features\u001b[49m\n",
      "\u001b[1;31mNameError\u001b[0m: name 'reduced_features' is not defined"
     ]
    }
   ],
   "source": [
    "reduced_features"
   ]
  },
  {
   "cell_type": "code",
   "execution_count": null,
   "metadata": {
    "id": "bd3WQKCuGavF",
    "scrolled": true
   },
   "outputs": [],
   "source": [
    "#Exclude further features that are co-variates of ADHD\n",
    "# don't include: k7q85_r (stays calm when challenged), k7q84_r (finishes tasks), k7q83_r (does all homework), \n",
    "# hcextent (health problems affect ability), sesplanyr (Spec. Edu Plan start), c4q04 (frustrated getting service), focuson (focus on task),\n",
    "# k2q33c (anxiety sev), k4q37 (spec. services received), k2q38c (tourettes), sc_k2q19 (special therapy), waitforturn, calmdown_r (trouble calming down)\n",
    "# arrangehc (hours arranging healthcare), k2q34b (behavior problems), k2q35a (Autism), k7q70_r (argues too much), ace11 (treated unfairly bc health condition), distracted (often dis)\n",
    "# k2q32a (depression), k4q36 (received spec. service), ssidisability (receive SSI), sc_k2q20 (spec. therapy for condition), \n",
    "# k6q15 (spec. educ. plan), k2q33a (anxiety), k2q30a (learning disability), k4q22_r (received treatment), autismmed (ASD medication), sc_k2q13 (use med care)\n",
    "# sc_k2q10 (medication), sc_cshcn (spec. health care needs), sc_k2q22 (treatment), k2q34a (behavior problem), memorycond (difficulty concentrating), k4q23 (medication)\n",
    "# menbevcov (insurance cov), k7q04r_r (times school contact home), k7q82_r (cares about grades), genetic_desc (genetic condition), k2q35a_1_years (first told ASD), k2q36a (dev delay)\n",
    "excluded = ['k7q85_r', 'k7q84_r', 'k7q83_r', 'hcextent', 'sesplanyr', 'c4q04', 'focuson', 'k2q33c', 'k4q37', 'sc_k2q19', 'waitforturn', 'calmdown_r', 'arrangehc', 'k2q34b', 'k2q35a', \n",
    "            'k7q70_r', 'ace11', 'distracted', 'k2q32a', 'k4q36', 'ssidisability', 'sc_k2q20', 'k6q15', 'k2q33a', 'k2q30a', 'k4q22_r', 'autismmed', 'sc_k2q13', 'sc_k2q10', 'sc_cshcn', \n",
    "            'sc_k2q22', 'k2q34a', 'memorycond', 'k4q23', 'menbevcov', 'k7q04r_r', 'k7q82_r', 'genetic_desc', 'k2q35a_1_years', 'k2q38c', 'k2q36a']\n",
    "data_ex = data_conv.drop(columns = excluded)\n",
    "reduced_features = [feature for feature in highly_correlated_features if feature not in excluded]\n",
    "data_final = data_ex[reduced_features + [target_variable]]\n",
    "\n",
    "# Remove rows with missing values\n",
    "final = data_final.dropna()\n",
    "\n",
    "# Calculate the number of deleted rows due to NA\n",
    "original_rows = data_conv.shape[0]\n",
    "deleted_rows = original_rows - final.shape[0]\n",
    "                                        \n",
    "X = final[reduced_features]\n",
    "y = final[target_variable]\n",
    "\n",
    "# Split the dataset into train, validation, and test sets\n",
    "train_size = 0.5\n",
    "validation_size = 0.4\n",
    "test_size = 0.1\n",
    "\n",
    "X_train, X_temp, y_train, y_temp = train_test_split(X, y, test_size=(1 - train_size), random_state = 42)\n",
    "X_val, X_test, y_val, y_test = train_test_split(X_temp, y_temp, test_size=test_size/(test_size + validation_size), random_state = 42)\n"
   ]
  },
  {
   "cell_type": "code",
   "execution_count": null,
   "metadata": {},
   "outputs": [],
   "source": [
    "# Random Forest\n",
    "model = RandomForestClassifier()\n",
    "model.fit(X_train, y_train)\n",
    "y_pred = model.predict(X_val)\n",
    "\n",
    "accuracy = accuracy_score(y_val, y_pred)\n",
    "print(f'{name} - Validation Accuracy: {accuracy:.2f}')\n",
    "print(classification_report(y_val, y_pred))\n",
    "print(confusion_matrix(y_val, y_pred))\n",
    "\n",
    "# Feature importance\n",
    "feature_importance = model.feature_importances_\n",
    "plt.barh(reduced_features, feature_importance)\n",
    "plt.xlabel('Feature Importance')\n",
    "plt.title('Random Forest - Feature Importance')\n",
    "plt.show()"
   ]
  },
  {
   "cell_type": "code",
   "execution_count": null,
   "metadata": {},
   "outputs": [],
   "source": [
    "#Logistic Regression\n",
    "model = LogisticRegression(max_iter = 1000)\n",
    "model.fit(X_train, y_train)\n",
    "y_pred = model.predict(X_val)\n",
    "\n",
    "accuracy = accuracy_score(y_val, y_pred)\n",
    "print(f'Logistic Regression - Validation Accuracy: {accuracy:.2f}')\n",
    "print(classification_report(y_val, y_pred))\n",
    "print(confusion_matrix(y_val, y_pred))\n",
    "\n",
    "# Mangitude of Coefficients\n",
    "coefficients = model.coef_[0]\n",
    "feature_names = X.columns\n",
    "\n",
    "# Create a DataFrame to display coefficients and feature names\n",
    "feature_importance = pd.DataFrame({'Feature': feature_names, 'Coefficient': coefficients})\n",
    "feature_importance = feature_importance.sort_values(by='Coefficient', ascending=False)\n",
    "\n",
    "plt.figure(figsize=(10, 6))\n",
    "plt.barh(feature_importance['Feature'], feature_importance['Coefficient'], color='skyblue')\n",
    "plt.xlabel('Coefficient Magnitude')\n",
    "plt.title('Logistic Regression - Feature Importance')\n",
    "plt.grid(axis='x', linestyle='--', alpha=0.6)\n",
    "\n",
    "# Add labels for positive and negative values\n",
    "for index, value in enumerate(feature_importance['Coefficient']):\n",
    "    plt.text(value, index, f'{value:.3f}', va='center')\n",
    "\n",
    "plt.show()"
   ]
  },
  {
   "cell_type": "code",
   "execution_count": null,
   "metadata": {},
   "outputs": [],
   "source": [
    "#Gaussian Process Classifier\n",
    "model = GaussianProcessClassifier()\n",
    "model.fit(X_train, y_train)\n",
    "y_pred = model.predict(X_val)\n",
    "\n",
    "accuracy = accuracy_score(y_val, y_pred)\n",
    "print(f'Gaussian Process Classifier - Validation Accuracy: {accuracy:.2f}')\n",
    "print(classification_report(y_val, y_pred))\n",
    "print(confusion_matrix(y_val, y_pred))"
   ]
  },
  {
   "cell_type": "code",
   "execution_count": null,
   "metadata": {},
   "outputs": [],
   "source": [
    "# SVM with Linear Kernel\n",
    "model = SVC(kernel = 'linear')\n",
    "model.fit(X_train, y_train)\n",
    "y_pred = model.predict(X_val)\n",
    "\n",
    "accuracy = accuracy_score(y_val, y_pred)\n",
    "print(f'SVC (Linear) - Validation Accuracy: {accuracy:.2f}')\n",
    "print(classification_report(y_val, y_pred))\n",
    "print(confusion_matrix(y_val, y_pred))"
   ]
  },
  {
   "cell_type": "code",
   "execution_count": null,
   "metadata": {},
   "outputs": [],
   "source": [
    "# SVM with Polynomial Kernel\n",
    "model = SVC(kernel = 'poly', degree = 3)\n",
    "model.fit(X_train, y_train)\n",
    "y_pred = model.predict(X_val)\n",
    "\n",
    "accuracy = accuracy_score(y_val, y_pred)\n",
    "print(f'SVC (Polynomial) - Validation Accuracy: {accuracy:.2f}')\n",
    "print(classification_report(y_val, y_pred))\n",
    "print(confusion_matrix(y_val, y_pred))"
   ]
  },
  {
   "cell_type": "code",
   "execution_count": null,
   "metadata": {},
   "outputs": [],
   "source": [
    "# Choose the best model and evaluate on the test set\n",
    "best_model = LogisticRegression(max_iter = 1000)  # Change this based on the best-performing model from validation\n",
    "best_model.fit(X_train, y_train)\n",
    "y_test_pred = best_model.predict(X_test)\n",
    "\n",
    "# Evaluate the best model on the test set\n",
    "accuracy_test = accuracy_score(y_test, y_test_pred)\n",
    "print(f'Best Model - Test Accuracy: {accuracy_test:.2f}')\n",
    "print(classification_report(y_test, y_test_pred))\n",
    "print(confusion_matrix(y_test, y_test_pred))\n",
    "\n",
    "# Mangitude of Coefficients\n",
    "coefficients = best_model.coef_[0]\n",
    "feature_names = X.columns\n",
    "\n",
    "# Create a DataFrame to display coefficients and feature names\n",
    "feature_importance = pd.DataFrame({'Feature': feature_names, 'Coefficient': coefficients})\n",
    "feature_importance = feature_importance.sort_values(by='Coefficient', ascending=False)\n",
    "\n",
    "plt.figure(figsize=(10, 6))\n",
    "plt.barh(feature_importance['Feature'], feature_importance['Coefficient'], color='skyblue')\n",
    "plt.xlabel('Coefficient Magnitude')\n",
    "plt.title('Logistic Regression - Feature Importance')\n",
    "plt.grid(axis='x', linestyle='--', alpha=0.6)\n",
    "\n",
    "# Add labels for positive and negative values\n",
    "for index, value in enumerate(feature_importance['Coefficient']):\n",
    "    plt.text(value, index, f'{value:.3f}', va='center')\n",
    "\n",
    "plt.show()"
   ]
  },
  {
   "cell_type": "code",
   "execution_count": null,
   "metadata": {},
   "outputs": [],
   "source": []
  },
  {
   "cell_type": "code",
   "execution_count": null,
   "metadata": {},
   "outputs": [],
   "source": []
  },
  {
   "cell_type": "code",
   "execution_count": null,
   "metadata": {},
   "outputs": [],
   "source": []
  },
  {
   "cell_type": "code",
   "execution_count": null,
   "metadata": {},
   "outputs": [],
   "source": []
  },
  {
   "cell_type": "code",
   "execution_count": null,
   "metadata": {},
   "outputs": [],
   "source": [
    "#Repeat same steps but features are economic variables (n = 393)\n",
    "\n",
    "data = topical_2022.copy()\n",
    "# Combine diagnosis and severity into a new target variable ranging from 0 to 3\n",
    "data['k2q31a'] = data['k2q31a'].apply(lambda x: 0 if x == 2 else 1) #assign 0 to 'No' instead of 2\n",
    "data['ADD_SEVERITY'] = data['k2q31a'] * data['k2q31c'].fillna(0)\n",
    "target_variable = 'ADD_SEVERITY'\n",
    "\n",
    "#select desired variables\n",
    "economic_features = ['a1_employed', 'ace1', 'currcov', 'cuthours', 'decisions', 'ebtcards', 'everhomeless', \n",
    "                     'foodsit', 'fpl_i1', 'homeevic', 'k11q60', 'k11q61', 'k11q62', \n",
    "                     'k12q01_a', 'k3q04_r','k3q20', 'k3q21b', 'k3q25', 'k4q27', 'missmortgage', 's9q34', 'ssi', \n",
    "                     'tenure']\n",
    "data_final = data[economic_features + [target_variable]]\n",
    "\n",
    "# Remove rows with missing values\n",
    "final = data_final.dropna()\n",
    "\n",
    "# Calculate the number of deleted rows due to NA\n",
    "original_rows = data_final.shape[0]\n",
    "deleted_rows = original_rows - final.shape[0]\n",
    "                                        \n",
    "X = final[economic_features]\n",
    "y = final[target_variable]\n",
    "\n",
    "# Split the dataset into train, validation, and test sets\n",
    "train_size = 0.5\n",
    "validation_size = 0.4\n",
    "test_size = 0.1\n",
    "\n",
    "X_train, X_temp, y_train, y_temp = train_test_split(X, y, test_size=(1 - train_size), random_state = 26)\n",
    "X_val, X_test, y_val, y_test = train_test_split(X_temp, y_temp, test_size=test_size/(test_size + validation_size), random_state = 26)\n",
    "\n"
   ]
  },
  {
   "cell_type": "code",
   "execution_count": null,
   "metadata": {},
   "outputs": [],
   "source": [
    "# Random Forest\n",
    "model = RandomForestClassifier()\n",
    "model.fit(X_train, y_train)\n",
    "y_pred = model.predict(X_val)\n",
    "\n",
    "accuracy = accuracy_score(y_val, y_pred)\n",
    "print(f'{name} - Validation Accuracy: {accuracy:.2f}')\n",
    "print(classification_report(y_val, y_pred))\n",
    "print(confusion_matrix(y_val, y_pred))\n",
    "\n",
    "# Feature importance\n",
    "feature_importance = model.feature_importances_\n",
    "plt.barh(reduced_features, feature_importance)\n",
    "plt.xlabel('Feature Importance')\n",
    "plt.title('Random Forest - Feature Importance')\n",
    "plt.show()"
   ]
  },
  {
   "cell_type": "code",
   "execution_count": null,
   "metadata": {},
   "outputs": [],
   "source": [
    "#Logistic Regression\n",
    "model = LogisticRegression(max_iter = 1000)\n",
    "model.fit(X_train, y_train)\n",
    "y_pred = model.predict(X_val)\n",
    "\n",
    "accuracy = accuracy_score(y_val, y_pred)\n",
    "print(f'Logistic Regression - Validation Accuracy: {accuracy:.2f}')\n",
    "print(classification_report(y_val, y_pred))\n",
    "print(confusion_matrix(y_val, y_pred))\n",
    "\n",
    "# Mangitude of Coefficients\n",
    "coefficients = model.coef_[0]\n",
    "feature_names = X.columns\n",
    "\n",
    "# Create a DataFrame to display coefficients and feature names\n",
    "feature_importance = pd.DataFrame({'Feature': feature_names, 'Coefficient': coefficients})\n",
    "feature_importance = feature_importance.sort_values(by='Coefficient', ascending=False)\n",
    "\n",
    "plt.figure(figsize=(10, 6))\n",
    "plt.barh(feature_importance['Feature'], feature_importance['Coefficient'], color='skyblue')\n",
    "plt.xlabel('Coefficient Magnitude')\n",
    "plt.title('Logistic Regression - Feature Importance')\n",
    "plt.grid(axis='x', linestyle='--', alpha=0.6)\n",
    "\n",
    "# Add labels for positive and negative values\n",
    "for index, value in enumerate(feature_importance['Coefficient']):\n",
    "    plt.text(value, index, f'{value:.3f}', va='center')\n",
    "\n",
    "plt.show()"
   ]
  },
  {
   "cell_type": "code",
   "execution_count": null,
   "metadata": {},
   "outputs": [],
   "source": [
    "#Gaussian Process Classifier\n",
    "model = GaussianProcessClassifier()\n",
    "model.fit(X_train, y_train)\n",
    "y_pred = model.predict(X_val)\n",
    "\n",
    "accuracy = accuracy_score(y_val, y_pred)\n",
    "print(f'Gaussian Process Classifier - Validation Accuracy: {accuracy:.2f}')\n",
    "print(classification_report(y_val, y_pred))\n",
    "print(confusion_matrix(y_val, y_pred))"
   ]
  },
  {
   "cell_type": "code",
   "execution_count": null,
   "metadata": {},
   "outputs": [],
   "source": [
    "# SVM with Linear Kernel\n",
    "model = SVC(kernel = 'linear')\n",
    "model.fit(X_train, y_train)\n",
    "y_pred = model.predict(X_val)\n",
    "\n",
    "accuracy = accuracy_score(y_val, y_pred)\n",
    "print(f'SVC (Linear) - Validation Accuracy: {accuracy:.2f}')\n",
    "print(classification_report(y_val, y_pred))\n",
    "print(confusion_matrix(y_val, y_pred))"
   ]
  },
  {
   "cell_type": "code",
   "execution_count": null,
   "metadata": {},
   "outputs": [],
   "source": [
    "# SVM with Polynomial Kernel\n",
    "model = SVC(kernel = 'poly', degree = 3)\n",
    "model.fit(X_train, y_train)\n",
    "y_pred = model.predict(X_val)\n",
    "\n",
    "accuracy = accuracy_score(y_val, y_pred)\n",
    "print(f'SVC (Polynomial) - Validation Accuracy: {accuracy:.2f}')\n",
    "print(classification_report(y_val, y_pred))\n",
    "print(confusion_matrix(y_val, y_pred))"
   ]
  },
  {
   "cell_type": "code",
   "execution_count": null,
   "metadata": {
    "scrolled": false
   },
   "outputs": [],
   "source": [
    "# Choose the best model and evaluate on the test set\n",
    "best_model = LogisticRegression()  # Change this based on the best-performing model from validation\n",
    "best_model.fit(X_train, y_train)\n",
    "y_test_pred = best_model.predict(X_test)\n",
    "\n",
    "# Evaluate the best model on the test set\n",
    "accuracy_test = accuracy_score(y_test, y_test_pred)\n",
    "print(f'Best Model - Test Accuracy: {accuracy_test:.2f}')\n",
    "print(classification_report(y_test, y_test_pred))\n",
    "print(confusion_matrix(y_test, y_test_pred))\n",
    "\n",
    "# Mangitude of Coefficients\n",
    "coefficients = best_model.coef_[0]\n",
    "feature_names = X.columns\n",
    "\n",
    "# Create a DataFrame to display coefficients and feature names\n",
    "feature_importance = pd.DataFrame({'Feature': feature_names, 'Coefficient': coefficients})\n",
    "feature_importance = feature_importance.sort_values(by='Coefficient', ascending=False)\n",
    "\n",
    "plt.figure(figsize=(10, 6))\n",
    "plt.barh(feature_importance['Feature'], feature_importance['Coefficient'], color='skyblue')\n",
    "plt.xlabel('Coefficient Magnitude')\n",
    "plt.title('Logistic Regression - Feature Importance')\n",
    "plt.grid(axis='x', linestyle='--', alpha=0.6)\n",
    "\n",
    "# Add labels for positive and negative values\n",
    "for index, value in enumerate(feature_importance['Coefficient']):\n",
    "    plt.text(value, index, f'{value:.3f}', va='center')\n",
    "\n",
    "plt.show()"
   ]
  },
  {
   "cell_type": "code",
   "execution_count": null,
   "metadata": {},
   "outputs": [],
   "source": [
    "#Repeat same steps but features are parental variables (n = 109)\n",
    "\n",
    "data = topical_2022.copy()\n",
    "# Combine diagnosis and severity into a new target variable ranging from 0 to 3\n",
    "data['k2q31a'] = data['k2q31a'].apply(lambda x: 0 if x == 2 else 1) #assign 0 to 'No' instead of 2\n",
    "data['ADD_SEVERITY'] = data['k2q31a'] * data['k2q31c'].fillna(0)\n",
    "target_variable = 'ADD_SEVERITY'\n",
    "\n",
    "#select desired variables\n",
    "parental_features = ['a1_age', 'a1_born', 'a1_employed', 'a1_grade', 'a1_liveusa', \n",
    "                     'a1_marital','a1_menthealth', 'a1_physhealth', 'a1_relation', 'a1_sex', 'a2_age', 'a2_born', \n",
    "                     'a2_employed', 'a2_grade', 'a2_liveusa','a2_marital','a2_menthealth', 'a2_physhealth',\n",
    "                     'a2_relation', 'a2_sex','ace3', 'ace4', 'ace5', 'ace6', 'ace7','ace8', 'ace9', 'agepos4', \n",
    "                     'allergies', 'althealth', 'appointment']\n",
    "data_final = data[parental_features + [target_variable]]\n",
    "\n",
    "# Remove rows with missing values\n",
    "final = data_final.dropna()\n",
    "\n",
    "# Calculate the number of deleted rows due to NA\n",
    "original_rows = data_final.shape[0]\n",
    "deleted_rows = original_rows - final.shape[0]\n",
    "                                        \n",
    "X = final[parental_features]\n",
    "y = final[target_variable]\n",
    "\n",
    "# Split the dataset into train, validation, and test sets\n",
    "train_size = 0.45\n",
    "validation_size = 0.3\n",
    "test_size = 0.25\n",
    "\n",
    "X_train, X_temp, y_train, y_temp = train_test_split(X, y, test_size=(1 - train_size))\n",
    "X_val, X_test, y_val, y_test = train_test_split(X_temp, y_temp, test_size=test_size/(test_size + validation_size))\n",
    "\n"
   ]
  },
  {
   "cell_type": "code",
   "execution_count": null,
   "metadata": {},
   "outputs": [],
   "source": [
    "# Random Forest\n",
    "model = RandomForestClassifier()\n",
    "model.fit(X_train, y_train)\n",
    "y_pred = model.predict(X_val)\n",
    "\n",
    "accuracy = accuracy_score(y_val, y_pred)\n",
    "print(f'{name} - Validation Accuracy: {accuracy:.2f}')\n",
    "print(classification_report(y_val, y_pred))\n",
    "print(confusion_matrix(y_val, y_pred))\n",
    "\n",
    "# Feature importance\n",
    "feature_importance = model.feature_importances_\n",
    "plt.barh(parental_features, feature_importance)\n",
    "plt.xlabel('Feature Importance')\n",
    "plt.title('Random Forest - Feature Importance')\n",
    "plt.show()"
   ]
  },
  {
   "cell_type": "code",
   "execution_count": null,
   "metadata": {},
   "outputs": [],
   "source": [
    "#Logistic Regression\n",
    "model = LogisticRegression(max_iter = 1000)\n",
    "model.fit(X_train, y_train)\n",
    "y_pred = model.predict(X_val)\n",
    "\n",
    "accuracy = accuracy_score(y_val, y_pred)\n",
    "print(f'Logistic Regression - Validation Accuracy: {accuracy:.2f}')\n",
    "print(classification_report(y_val, y_pred))\n",
    "print(confusion_matrix(y_val, y_pred))\n",
    "\n",
    "# Mangitude of Coefficients\n",
    "coefficients = model.coef_[0]\n",
    "feature_names = X.columns\n",
    "\n",
    "# Create a DataFrame to display coefficients and feature names\n",
    "feature_importance = pd.DataFrame({'Feature': feature_names, 'Coefficient': coefficients})\n",
    "feature_importance = feature_importance.sort_values(by='Coefficient', ascending=False)\n",
    "\n",
    "plt.figure(figsize=(10, 6))\n",
    "plt.barh(feature_importance['Feature'], feature_importance['Coefficient'], color='skyblue')\n",
    "plt.xlabel('Coefficient Magnitude')\n",
    "plt.title('Logistic Regression - Feature Importance')\n",
    "plt.grid(axis='x', linestyle='--', alpha=0.6)\n",
    "\n",
    "# Add labels for positive and negative values\n",
    "for index, value in enumerate(feature_importance['Coefficient']):\n",
    "    plt.text(value, index, f'{value:.3f}', va='center')\n",
    "\n",
    "plt.show()"
   ]
  },
  {
   "cell_type": "code",
   "execution_count": null,
   "metadata": {},
   "outputs": [],
   "source": [
    "#Gaussian Process Classifier\n",
    "model = GaussianProcessClassifier()\n",
    "model.fit(X_train, y_train)\n",
    "y_pred = model.predict(X_val)\n",
    "\n",
    "accuracy = accuracy_score(y_val, y_pred)\n",
    "print(f'Gaussian Process Classifier - Validation Accuracy: {accuracy:.2f}')\n",
    "print(classification_report(y_val, y_pred))\n",
    "print(confusion_matrix(y_val, y_pred))"
   ]
  },
  {
   "cell_type": "code",
   "execution_count": null,
   "metadata": {},
   "outputs": [],
   "source": [
    "# SVM with Linear Kernel\n",
    "model = SVC(kernel = 'linear')\n",
    "model.fit(X_train, y_train)\n",
    "y_pred = model.predict(X_val)\n",
    "\n",
    "accuracy = accuracy_score(y_val, y_pred)\n",
    "print(f'SVC (Linear) - Validation Accuracy: {accuracy:.2f}')\n",
    "print(classification_report(y_val, y_pred))\n",
    "print(confusion_matrix(y_val, y_pred))"
   ]
  },
  {
   "cell_type": "code",
   "execution_count": null,
   "metadata": {},
   "outputs": [],
   "source": [
    "# SVM with Polynomial Kernel\n",
    "model = SVC(kernel = 'poly', degree = 3)\n",
    "model.fit(X_train, y_train)\n",
    "y_pred = model.predict(X_val)\n",
    "\n",
    "accuracy = accuracy_score(y_val, y_pred)\n",
    "print(f'SVC (Polynomial) - Validation Accuracy: {accuracy:.2f}')\n",
    "print(classification_report(y_val, y_pred))\n",
    "print(confusion_matrix(y_val, y_pred))"
   ]
  },
  {
   "cell_type": "code",
   "execution_count": null,
   "metadata": {},
   "outputs": [],
   "source": [
    "# Choose the best model and evaluate on the test set\n",
    "best_model = LogisticRegression()  # Change this based on the best-performing model from validation\n",
    "best_model.fit(X_train, y_train)\n",
    "y_test_pred = best_model.predict(X_test)\n",
    "\n",
    "# Evaluate the best model on the test set\n",
    "accuracy_test = accuracy_score(y_test, y_test_pred)\n",
    "print(f'Best Model - Test Accuracy: {accuracy_test:.2f}')\n",
    "print(classification_report(y_test, y_test_pred))\n",
    "print(confusion_matrix(y_test, y_test_pred))\n",
    "\n",
    "# # Feature importance\n",
    "# feature_importance = best_model.feature_importances_\n",
    "# plt.barh(parental_features, feature_importance)\n",
    "# plt.xlabel('Feature Importance')\n",
    "# plt.title('Random Forest - Feature Importance')\n",
    "# plt.show()\n",
    "\n",
    "# Mangitude of Coefficients\n",
    "coefficients = best_model.coef_[0]\n",
    "feature_names = X.columns\n",
    "\n",
    "# Create a DataFrame to display coefficients and feature names\n",
    "feature_importance = pd.DataFrame({'Feature': feature_names, 'Coefficient': coefficients})\n",
    "feature_importance = feature_importance.sort_values(by='Coefficient', ascending=False)\n",
    "\n",
    "plt.figure(figsize=(10, 6))\n",
    "plt.barh(feature_importance['Feature'], feature_importance['Coefficient'], color='skyblue')\n",
    "plt.xlabel('Coefficient Magnitude')\n",
    "plt.title('Logistic Regression - Feature Importance')\n",
    "plt.grid(axis='x', linestyle='--', alpha=0.6)\n",
    "\n",
    "# Add labels for positive and negative values\n",
    "for index, value in enumerate(feature_importance['Coefficient']):\n",
    "    plt.text(value, index, f'{value:.3f}', va='center')\n",
    "\n",
    "plt.show()\n"
   ]
  },
  {
   "cell_type": "code",
   "execution_count": null,
   "metadata": {},
   "outputs": [],
   "source": [
    "#Repeat same steps but features are lifestyle variables (n = 12,111)\n",
    "\n",
    "data = topical_2022.copy()\n",
    "# Combine diagnosis and severity into a new target variable ranging from 0 to 3\n",
    "data['k2q31a'] = data['k2q31a'].apply(lambda x: 0 if x == 2 else 1) #assign 0 to 'No' instead of 2\n",
    "data['ADD_SEVERITY'] = data['k2q31a'] * data['k2q31c'].fillna(0)\n",
    "target_variable = 'ADD_SEVERITY'\n",
    "\n",
    "#select desired variables\n",
    "lifestyle_features = ['avoidchg', 'bedtime', 'birth_yr',\n",
    "                     'birthwt', 'bmiclass', 'bornusa', 'bullied_r', 'overweight',\n",
    "                      'bully', 'concussion', 'covidarrange', 'screentime', 'physactiv',\n",
    "                     'goforhelp', 'height', 'hhcount','higrade_tvis', 'hopeful', 'insgap', 'k10q11', 'k10q12','k10q13', \n",
    "                      'k10q14', 'k10q20', 'k10q22', 'k10q23', 'k10q30', 'k10q31', 'k10q40_r', 'k10q41_r', 'k11q43r', 'k2q01', \n",
    "                      'k2q05', 'wktosolve', 'sc_age_years', 'placeslived', 'sc_english', 'vape', 'talkabout']\n",
    "# Convert categorical columns to numerical\n",
    "data_conv = data.copy()\n",
    "categ = ['inq_edu', 'inq_employ', 'inq_home', 'inq_income', 'inq_resseg']\n",
    "data_conv[categ] = data[categ].replace({'LOW': 0, 'HIGH': 1})\n",
    "\n",
    "data_final = data_conv[lifestyle_features + categ + [target_variable]]\n",
    "\n",
    "# Remove rows with missing values\n",
    "final = data_final.dropna()\n",
    "\n",
    "# Calculate the number of deleted rows due to NA\n",
    "original_rows = data_final.shape[0]\n",
    "deleted_rows = original_rows - final.shape[0]\n",
    "                                        \n",
    "X = final[lifestyle_features]\n",
    "y = final[target_variable]\n",
    "\n",
    "# Split the dataset into train, validation, and test sets\n",
    "train_size = 0.5\n",
    "validation_size = 0.3\n",
    "test_size = 0.2\n",
    "\n",
    "X_train, X_temp, y_train, y_temp = train_test_split(X, y, test_size=(1 - train_size), random_state = 42)\n",
    "X_val, X_test, y_val, y_test = train_test_split(X_temp, y_temp, test_size=test_size/(test_size + validation_size), random_state = 42)\n"
   ]
  },
  {
   "cell_type": "code",
   "execution_count": null,
   "metadata": {},
   "outputs": [],
   "source": [
    "# Random Forest\n",
    "model = RandomForestClassifier()\n",
    "model.fit(X_train, y_train)\n",
    "y_pred = model.predict(X_val)\n",
    "\n",
    "accuracy = accuracy_score(y_val, y_pred)\n",
    "print(f'{name} - Validation Accuracy: {accuracy:.2f}')\n",
    "print(classification_report(y_val, y_pred))\n",
    "print(confusion_matrix(y_val, y_pred))\n",
    "\n",
    "# Feature importance\n",
    "feature_importance = model.feature_importances_\n",
    "plt.barh(lifestyle_features, feature_importance)\n",
    "plt.xlabel('Feature Importance')\n",
    "plt.title('Random Forest - Feature Importance')\n",
    "plt.show()"
   ]
  },
  {
   "cell_type": "code",
   "execution_count": null,
   "metadata": {},
   "outputs": [],
   "source": [
    "#Logistic Regression\n",
    "model = LogisticRegression(max_iter = 1000)\n",
    "model.fit(X_train, y_train)\n",
    "y_pred = model.predict(X_val)\n",
    "\n",
    "accuracy = accuracy_score(y_val, y_pred)\n",
    "print(f'Logistic Regression - Validation Accuracy: {accuracy:.2f}')\n",
    "print(classification_report(y_val, y_pred))\n",
    "print(confusion_matrix(y_val, y_pred))\n",
    "\n",
    "# Mangitude of Coefficients\n",
    "coefficients = model.coef_[0]\n",
    "feature_names = X.columns\n",
    "\n",
    "# Create a DataFrame to display coefficients and feature names\n",
    "feature_importance = pd.DataFrame({'Feature': feature_names, 'Coefficient': coefficients})\n",
    "feature_importance = feature_importance.sort_values(by='Coefficient', ascending=False)\n",
    "\n",
    "plt.figure(figsize=(10, 6))\n",
    "plt.barh(feature_importance['Feature'], feature_importance['Coefficient'], color='skyblue')\n",
    "plt.xlabel('Coefficient Magnitude')\n",
    "plt.title('Logistic Regression - Feature Importance')\n",
    "plt.grid(axis='x', linestyle='--', alpha=0.6)\n",
    "\n",
    "# Add labels for positive and negative values\n",
    "for index, value in enumerate(feature_importance['Coefficient']):\n",
    "    plt.text(value, index, f'{value:.3f}', va='center')\n",
    "\n",
    "plt.show()"
   ]
  },
  {
   "cell_type": "code",
   "execution_count": null,
   "metadata": {},
   "outputs": [],
   "source": [
    "#Gaussian Process Classifier\n",
    "model = GaussianProcessClassifier()\n",
    "model.fit(X_train, y_train)\n",
    "y_pred = model.predict(X_val)\n",
    "\n",
    "accuracy = accuracy_score(y_val, y_pred)\n",
    "print(f'Gaussian Process Classifier - Validation Accuracy: {accuracy:.2f}')\n",
    "print(classification_report(y_val, y_pred))\n",
    "print(confusion_matrix(y_val, y_pred))"
   ]
  },
  {
   "cell_type": "code",
   "execution_count": null,
   "metadata": {
    "scrolled": true
   },
   "outputs": [],
   "source": [
    "# SVM with Linear Kernel\n",
    "model = SVC(kernel = 'linear')\n",
    "model.fit(X_train, y_train)\n",
    "y_pred = model.predict(X_val)\n",
    "\n",
    "accuracy = accuracy_score(y_val, y_pred)\n",
    "print(f'SVC (Linear) - Validation Accuracy: {accuracy:.2f}')\n",
    "print(classification_report(y_val, y_pred))\n",
    "print(confusion_matrix(y_val, y_pred))"
   ]
  },
  {
   "cell_type": "code",
   "execution_count": null,
   "metadata": {},
   "outputs": [],
   "source": [
    "# SVM with Polynomial Kernel\n",
    "model = SVC(kernel = 'poly', degree = 3)\n",
    "model.fit(X_train, y_train)\n",
    "y_pred = model.predict(X_val)\n",
    "\n",
    "accuracy = accuracy_score(y_val, y_pred)\n",
    "print(f'SVC (Polynomial) - Validation Accuracy: {accuracy:.2f}')\n",
    "print(classification_report(y_val, y_pred))\n",
    "print(confusion_matrix(y_val, y_pred))"
   ]
  },
  {
   "cell_type": "code",
   "execution_count": null,
   "metadata": {},
   "outputs": [],
   "source": [
    "# Choose the best model and evaluate on the test set\n",
    "best_model = LogisticRegression()  # Change this based on the best-performing model from validation\n",
    "best_model.fit(X_train, y_train)\n",
    "y_test_pred = best_model.predict(X_test)\n",
    "\n",
    "# Evaluate the best model on the test set\n",
    "accuracy_test = accuracy_score(y_test, y_test_pred)\n",
    "print(f'Best Model - Test Accuracy: {accuracy_test:.2f}')\n",
    "print(classification_report(y_test, y_test_pred))\n",
    "print(confusion_matrix(y_test, y_test_pred))\n",
    "\n",
    "# Mangitude of Coefficients\n",
    "coefficients = best_model.coef_[0]\n",
    "feature_names = X.columns\n",
    "\n",
    "# Create a DataFrame to display coefficients and feature names\n",
    "feature_importance = pd.DataFrame({'Feature': feature_names, 'Coefficient': coefficients})\n",
    "feature_importance = feature_importance.sort_values(by='Coefficient', ascending=False)\n",
    "\n",
    "plt.figure(figsize=(10, 6))\n",
    "plt.barh(feature_importance['Feature'], feature_importance['Coefficient'], color='skyblue')\n",
    "plt.xlabel('Coefficient Magnitude')\n",
    "plt.title('Logistic Regression - Feature Importance')\n",
    "plt.grid(axis='x', linestyle='--', alpha=0.6)\n",
    "\n",
    "# Add labels for positive and negative values\n",
    "for index, value in enumerate(feature_importance['Coefficient']):\n",
    "    plt.text(value, index, f'{value:.3f}', va='center')\n",
    "\n",
    "plt.show()"
   ]
  },
  {
   "cell_type": "code",
   "execution_count": null,
   "metadata": {},
   "outputs": [],
   "source": [
    "# Combining the strongest features from each category\n",
    "data = topical_2022.copy()\n",
    "# Combine diagnosis and severity into a new target variable ranging from 0 to 3\n",
    "data['k2q31a'] = data['k2q31a'].apply(lambda x: 0 if x == 2 else 1) #assign 0 to 'No' instead of 2\n",
    "data['ADD_SEVERITY'] = data['k2q31a'] * data['k2q31c'].fillna(0)\n",
    "target_variable = 'ADD_SEVERITY'\n",
    "\n",
    "#select desired variables\n",
    "combo_features = ['ace1', 'decisions', 'k4q27',\n",
    "                     'missmortgage', 'k12q01_a', 'tenure', 'a1_employed', 'a2_physhealth',\n",
    "                      'a2_menthealth', 'a2_relation', 'bullied_r', 'k11q43r', 'screentime',\n",
    "                     'bully', 'k2q01', 'sc_age_years', 'totnonshcn', 'k8q31', 'errandalone', 'k8q31']\n",
    "# Convert categorical columns to numerical\n",
    "data_conv = data.copy()\n",
    "categ = ['inq_edu', 'inq_employ', 'inq_home', 'inq_income', 'inq_resseg']\n",
    "data_conv[categ] = data[categ].replace({'LOW': 0, 'HIGH': 1})\n",
    "\n",
    "data_final = data_conv[combo_features + [target_variable]]\n",
    "\n",
    "# Remove rows with missing values\n",
    "final = data_final.dropna()\n",
    "\n",
    "# Calculate the number of deleted rows due to NA\n",
    "original_rows = data_final.shape[0]\n",
    "deleted_rows = original_rows - final.shape[0]\n",
    "                                        \n",
    "X = final[combo_features]\n",
    "y = final[target_variable]\n",
    "\n",
    "# Split the dataset into train, validation, and test sets\n",
    "train_size = 0.5\n",
    "validation_size = 0.27\n",
    "test_size = 0.23\n",
    "\n",
    "X_train, X_temp, y_train, y_temp = train_test_split(X, y, test_size=(1 - train_size))\n",
    "X_val, X_test, y_val, y_test = train_test_split(X_temp, y_temp, test_size=test_size/(test_size + validation_size))\n"
   ]
  },
  {
   "cell_type": "code",
   "execution_count": null,
   "metadata": {},
   "outputs": [],
   "source": [
    "final"
   ]
  },
  {
   "cell_type": "code",
   "execution_count": null,
   "metadata": {},
   "outputs": [],
   "source": [
    "# Random Forest\n",
    "model_ = RandomForestClassifier()\n",
    "model_.fit(X_train, y_train)\n",
    "y_pred = model_.predict(X_val)\n",
    "\n",
    "accuracy = accuracy_score(y_val, y_pred)\n",
    "print(f'{name} - Validation Accuracy: {accuracy:.2f}')\n",
    "print(classification_report(y_val, y_pred))\n",
    "print(confusion_matrix(y_val, y_pred))\n",
    "\n",
    "# Feature importance\n",
    "feature_importance = model_.feature_importances_\n",
    "plt.barh(combo_features, feature_importance)\n",
    "plt.xlabel('Feature Importance')\n",
    "plt.title('Random Forest - Feature Importance')\n",
    "plt.show()"
   ]
  },
  {
   "cell_type": "code",
   "execution_count": null,
   "metadata": {},
   "outputs": [],
   "source": [
    "feature_importance"
   ]
  },
  {
   "cell_type": "code",
   "execution_count": null,
   "metadata": {},
   "outputs": [],
   "source": [
    "len(comb_features)"
   ]
  },
  {
   "cell_type": "code",
   "execution_count": null,
   "metadata": {},
   "outputs": [],
   "source": [
    "#Logistic Regression\n",
    "model = LogisticRegression(max_iter = 1000)\n",
    "model.fit(X_train, y_train)\n",
    "y_pred = model.predict(X_val)\n",
    "\n",
    "accuracy = accuracy_score(y_val, y_pred)\n",
    "print(f'Logistic Regression - Validation Accuracy: {accuracy:.2f}')\n",
    "print(classification_report(y_val, y_pred))\n",
    "print(confusion_matrix(y_val, y_pred))\n",
    "\n",
    "# Mangitude of Coefficients\n",
    "coefficients = model.coef_[0]\n",
    "feature_names = X.columns\n",
    "\n",
    "# Create a DataFrame to display coefficients and feature names\n",
    "feature_importance = pd.DataFrame({'Feature': feature_names, 'Coefficient': coefficients})\n",
    "feature_importance = feature_importance.sort_values(by='Coefficient', ascending=False)\n",
    "\n",
    "plt.figure(figsize=(10, 6))\n",
    "plt.barh(feature_importance['Feature'], feature_importance['Coefficient'], color='skyblue')\n",
    "plt.xlabel('Coefficient Magnitude')\n",
    "plt.title('Logistic Regression - Feature Importance')\n",
    "plt.grid(axis='x', linestyle='--', alpha=0.6)\n",
    "\n",
    "# Add labels for positive and negative values\n",
    "for index, value in enumerate(feature_importance['Coefficient']):\n",
    "    plt.text(value, index, f'{value:.3f}', va='center')\n",
    "\n",
    "plt.show()"
   ]
  },
  {
   "cell_type": "code",
   "execution_count": null,
   "metadata": {},
   "outputs": [],
   "source": [
    "#Gaussian Process Classifier\n",
    "model = GaussianProcessClassifier()\n",
    "model.fit(X_train, y_train)\n",
    "y_pred = model.predict(X_val)\n",
    "\n",
    "accuracy = accuracy_score(y_val, y_pred)\n",
    "print(f'Gaussian Process Classifier - Validation Accuracy: {accuracy:.2f}')\n",
    "print(classification_report(y_val, y_pred))\n",
    "print(confusion_matrix(y_val, y_pred))"
   ]
  },
  {
   "cell_type": "code",
   "execution_count": null,
   "metadata": {},
   "outputs": [],
   "source": [
    "# SVM with Linear Kernel\n",
    "model = SVC(kernel = 'linear')\n",
    "model.fit(X_train, y_train)\n",
    "y_pred = model.predict(X_val)\n",
    "\n",
    "accuracy = accuracy_score(y_val, y_pred)\n",
    "print(f'SVC (Linear) - Validation Accuracy: {accuracy:.2f}')\n",
    "print(classification_report(y_val, y_pred))\n",
    "print(confusion_matrix(y_val, y_pred))"
   ]
  },
  {
   "cell_type": "code",
   "execution_count": null,
   "metadata": {},
   "outputs": [],
   "source": [
    "# SVM with Polynomial Kernel\n",
    "model = SVC(kernel = 'poly', degree = 3)\n",
    "model.fit(X_train, y_train)\n",
    "y_pred = model.predict(X_val)\n",
    "\n",
    "accuracy = accuracy_score(y_val, y_pred)\n",
    "print(f'SVC (Polynomial) - Validation Accuracy: {accuracy:.2f}')\n",
    "print(classification_report(y_val, y_pred))\n",
    "print(confusion_matrix(y_val, y_pred))"
   ]
  },
  {
   "cell_type": "code",
   "execution_count": null,
   "metadata": {},
   "outputs": [],
   "source": [
    "# Choose the best model and evaluate on the test set\n",
    "best_model = LogisticRegression()  # Change this based on the best-performing model from validation\n",
    "best_model.fit(X_train, y_train)\n",
    "y_test_pred = best_model.predict(X_test)\n",
    "\n",
    "# Evaluate the best model on the test set\n",
    "accuracy_test = accuracy_score(y_test, y_test_pred)\n",
    "print(f'Best Model - Test Accuracy: {accuracy_test:.2f}')\n",
    "print(classification_report(y_test, y_test_pred))\n",
    "print(confusion_matrix(y_test, y_test_pred))\n",
    "\n",
    "# Mangitude of Coefficients\n",
    "coefficients = best_model.coef_[0]\n",
    "feature_names = X.columns\n",
    "\n",
    "# Create a DataFrame to display coefficients and feature names\n",
    "feature_importance = pd.DataFrame({'Feature': feature_names, 'Coefficient': coefficients})\n",
    "feature_importance = feature_importance.sort_values(by='Coefficient', ascending=False)\n",
    "\n",
    "plt.figure(figsize=(10, 6))\n",
    "plt.barh(feature_importance['Feature'], feature_importance['Coefficient'], color='skyblue')\n",
    "plt.xlabel('Coefficient Magnitude')\n",
    "plt.title('Logistic Regression - Feature Importance')\n",
    "plt.grid(axis='x', linestyle='--', alpha=0.6)\n",
    "\n",
    "# Add labels for positive and negative values\n",
    "for index, value in enumerate(feature_importance['Coefficient']):\n",
    "    plt.text(value, index, f'{value:.3f}', va='center')\n",
    "\n",
    "plt.show()"
   ]
  },
  {
   "cell_type": "code",
   "execution_count": null,
   "metadata": {},
   "outputs": [],
   "source": []
  }
 ],
 "metadata": {
  "colab": {
   "provenance": []
  },
  "kernelspec": {
   "display_name": "Python 3 (ipykernel)",
   "language": "python",
   "name": "python3"
  },
  "language_info": {
   "codemirror_mode": {
    "name": "ipython",
    "version": 3
   },
   "file_extension": ".py",
   "mimetype": "text/x-python",
   "name": "python",
   "nbconvert_exporter": "python",
   "pygments_lexer": "ipython3",
   "version": "3.9.18"
  },
  "varInspector": {
   "cols": {
    "lenName": 16,
    "lenType": 16,
    "lenVar": 40
   },
   "kernels_config": {
    "python": {
     "delete_cmd_postfix": "",
     "delete_cmd_prefix": "del ",
     "library": "var_list.py",
     "varRefreshCmd": "print(var_dic_list())"
    },
    "r": {
     "delete_cmd_postfix": ") ",
     "delete_cmd_prefix": "rm(",
     "library": "var_list.r",
     "varRefreshCmd": "cat(var_dic_list()) "
    }
   },
   "types_to_exclude": [
    "module",
    "function",
    "builtin_function_or_method",
    "instance",
    "_Feature"
   ],
   "window_display": false
  }
 },
 "nbformat": 4,
 "nbformat_minor": 1
}
